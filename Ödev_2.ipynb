{
 "cells": [
  {
   "cell_type": "markdown",
   "id": "37ee180c",
   "metadata": {},
   "source": [
    "# Soru 1 – Sayı Analizi "
   ]
  },
  {
   "cell_type": "markdown",
   "id": "60ce77b6",
   "metadata": {},
   "source": [
    "Kullanıcıdan bir sayı isteyin. \n",
    "• Sayı pozitif, negatif ya da sıfır mı kontrol edin. \n",
    "• Aynı zamanda tek/çift olup olmadığını da belirtin. \n",
    "• Çıktı örneği: \"Pozitif Çift\" veya \"Negatif Tek\" gibi."
   ]
  },
  {
   "cell_type": "code",
   "execution_count": 25,
   "id": "c69b3e6f",
   "metadata": {},
   "outputs": [
    {
     "name": "stdout",
     "output_type": "stream",
     "text": [
      "Bir değer giriniz: 1\n",
      "POZİTİF TEK\n"
     ]
    }
   ],
   "source": [
    "deger = int(input(\"Bir değer giriniz: \"))\n",
    "\n",
    "if deger > 0:\n",
    "    if deger % 2 == 0:\n",
    "        print(\"POZİTİF ÇİFT\")\n",
    "    else:\n",
    "        print(\"POZİTİF TEK\")\n",
    "\n",
    "elif deger < 0:\n",
    "    if deger % 2 == 0:\n",
    "        print(\"NEGATİF ÇİFT\")\n",
    "    else:\n",
    "        print(\"NEGATİF TEK\")\n",
    "\n",
    "else:\n",
    "    print(\"SIFIR\")\n"
   ]
  },
  {
   "cell_type": "markdown",
   "id": "024b3c44",
   "metadata": {},
   "source": [
    "# Soru 2 – Harf Frekansı (String) "
   ]
  },
  {
   "cell_type": "markdown",
   "id": "b616050b",
   "metadata": {},
   "source": [
    "Kullanıcıdan bir kelime alın. \n",
    "• Hangi harften kaç tane geçtiğini bulun. \n",
    "• Sonucu dictionary olarak gösterin. \n",
    "Örnek: \"data\" → {'d': 1, 'a': 2, 't': 1} "
   ]
  },
  {
   "cell_type": "code",
   "execution_count": 29,
   "id": "fa8b9e5a",
   "metadata": {},
   "outputs": [
    {
     "name": "stdout",
     "output_type": "stream",
     "text": [
      "Bir kelime giriniz:zeynep\n",
      "{'z': 1, 'e': 2, 'y': 1, 'n': 1, 'p': 1}\n"
     ]
    }
   ],
   "source": [
    "kelime=input(\"Bir kelime giriniz:\")\n",
    "kelime_listesi=list(kelime)\n",
    "sayac={}\n",
    "for i  in kelime_listesi:\n",
    "    if i in sayac:\n",
    "        sayac[i] +=1\n",
    "    else:\n",
    "        sayac[i]=1\n",
    "        \n",
    "print(sayac)    "
   ]
  },
  {
   "cell_type": "markdown",
   "id": "481cf7ca",
   "metadata": {},
   "source": [
    "# Soru 3 – Şifre Kontrolü (String Metotları)"
   ]
  },
  {
   "cell_type": "markdown",
   "id": "3a119dc7",
   "metadata": {},
   "source": [
    "Kullanıcıdan şifre girmesini isteyin. Şifre: \n",
    "• En az 8 karakter olmalı \n",
    "• En az 1 büyük harf içermeli \n",
    "• En az 1 rakam içermeli \n",
    "Koşulları sağlayıp sağlamadığına göre kullanıcıyı bilgilendirin."
   ]
  },
  {
   "cell_type": "code",
   "execution_count": 3,
   "id": "9dc40734",
   "metadata": {},
   "outputs": [
    {
     "name": "stdout",
     "output_type": "stream",
     "text": [
      "Sifrenizi girin:asdfghZ4\n",
      "Şifrenin başarıyla oluşturuldu\n"
     ]
    }
   ],
   "source": [
    "sifre=input(\"Sifrenizi girin:\")\n",
    "\n",
    "if len(sifre)<8:\n",
    "    print(\"Sifreniz 8 karakterden uzun olmalıdır\")\n",
    "sifre_list=list(sifre) \n",
    "buyuk_harf=False\n",
    "rakam_mi=False\n",
    "\n",
    "for i in sifre_list:\n",
    "    if i.isupper():\n",
    "        buyuk_harf=True\n",
    "   \n",
    "    if i.isdigit():\n",
    "        rakam_mi=True\n",
    "\n",
    "if not buyuk_harf:\n",
    "    print(\"Şifreniz en az bir büyük harf içermelidir\")\n",
    "if not rakam_mi:\n",
    "    print(\"Şifreniz en az bir rakam içermlidir\")\n",
    "    \n",
    "if len(sifre)>=8 and  buyuk_harf and rakam_mi:\n",
    "    print(\"Şifrenin başarıyla oluşturuldu\")\n",
    "    \n",
    "    "
   ]
  },
  {
   "cell_type": "markdown",
   "id": "13847049",
   "metadata": {},
   "source": [
    "# Soru 4 – Liste İşlemleri"
   ]
  },
  {
   "cell_type": "markdown",
   "id": "813dc41a",
   "metadata": {},
   "source": [
    "[12, 4, 9, 25, 30, 7, 18] listesini kullanın. \n",
    "• Listenin ortalamasını bulun. \n",
    "• Ortalamadan büyük sayıları ayrı bir listeye atın. \n",
    "• Sonucu ekrana yazdırın. "
   ]
  },
  {
   "cell_type": "code",
   "execution_count": 20,
   "id": "6081b2c2",
   "metadata": {},
   "outputs": [
    {
     "name": "stdout",
     "output_type": "stream",
     "text": [
      "[25, 30, 18]\n"
     ]
    }
   ],
   "source": [
    "liste=[12, 4, 9, 25, 30, 7, 18]\n",
    "ortalama=sum(liste)/len(liste)\n",
    "sonuc=[]\n",
    "for i in liste:\n",
    "    if i>ortalama:\n",
    "        sonuc.append(i)\n",
    "print(sonuc)\n"
   ]
  },
  {
   "cell_type": "markdown",
   "id": "359b8d1e",
   "metadata": {},
   "source": [
    "# Soru 5 – Nested Loop (Desen)"
   ]
  },
  {
   "cell_type": "markdown",
   "id": "fa55157f",
   "metadata": {},
   "source": [
    "Aşağıdaki çıktıyı üreten programı yazın (üçgen desen): \n",
    "* \n",
    "** \n",
    "*** \n",
    "**** \n",
    "***** "
   ]
  },
  {
   "cell_type": "code",
   "execution_count": 22,
   "id": "b37e6f16",
   "metadata": {},
   "outputs": [
    {
     "name": "stdout",
     "output_type": "stream",
     "text": [
      "İstediğiniz satır sayısını giriniz:6\n",
      "*\n",
      "**\n",
      "***\n",
      "****\n",
      "*****\n",
      "******\n"
     ]
    }
   ],
   "source": [
    "n=int(input(\"İstediğiniz satır sayısını giriniz:\"))\n",
    "for i in range(1,1+n):\n",
    "    print(\"*\"*i)"
   ]
  },
  {
   "cell_type": "markdown",
   "id": "1379fc8f",
   "metadata": {},
   "source": [
    "# Soru 6 – While Döngüsü "
   ]
  },
  {
   "cell_type": "markdown",
   "id": "21bf5fab",
   "metadata": {},
   "source": [
    "Kullanıcıdan sürekli sayı isteyin. \n",
    "• Kullanıcı 0 girdiğinde program dursun. \n",
    "• Girilen tüm sayıların toplamını ve ortalamasını yazdırın."
   ]
  },
  {
   "cell_type": "code",
   "execution_count": 24,
   "id": "8a8353e4",
   "metadata": {},
   "outputs": [
    {
     "name": "stdout",
     "output_type": "stream",
     "text": [
      "değer giriniz:4\n",
      "değer giriniz:7\n",
      "değer giriniz:4\n",
      "değer giriniz:0\n",
      "Toplam: 15   Ortalama: 5.0\n"
     ]
    }
   ],
   "source": [
    "toplam=0\n",
    "count=0\n",
    "while True:\n",
    "    i=int(input(\"değer giriniz:\"))\n",
    "    if i != 0:\n",
    "        toplam += i\n",
    "        count +=1\n",
    "    else:\n",
    "        break\n",
    "ortalama=toplam/count\n",
    "print(\"Toplam:\",toplam,\"  Ortalama:\",ortalama)"
   ]
  },
  {
   "cell_type": "markdown",
   "id": "2fb25af3",
   "metadata": {},
   "source": [
    "# Soru 7 – Palindrom Kontrolü "
   ]
  },
  {
   "cell_type": "markdown",
   "id": "062c105c",
   "metadata": {},
   "source": [
    "Kullanıcıdan bir kelime isteyin. \n",
    "• Kelimenin palindrom olup olmadığını kontrol edin. \n",
    "• Örnek: \"kayak\" → Palindrom     , \"python\" → Değil"
   ]
  },
  {
   "cell_type": "code",
   "execution_count": 36,
   "id": "7b91953b",
   "metadata": {},
   "outputs": [
    {
     "name": "stdout",
     "output_type": "stream",
     "text": [
      "Bir kelime giriniz:kaynak\n",
      "kaynak  bir polindrom sayı değildir\n"
     ]
    }
   ],
   "source": [
    "kelime=input(\"Bir kelime giriniz:\")\n",
    "kelime_list=list(kelime)\n",
    "ters=kelime[::-1]\n",
    "ters_liste=list(ters)\n",
    "if kelime_list == ters_liste:\n",
    "    print(kelime,\" bir polindrom sayıdır\")\n",
    "else:\n",
    "      print(kelime,\" bir polindrom sayı değildir\")\n"
   ]
  },
  {
   "cell_type": "markdown",
   "id": "3ba8b085",
   "metadata": {},
   "source": [
    "# Soru 8 – List Comprehension "
   ]
  },
  {
   "cell_type": "markdown",
   "id": "89001bf9",
   "metadata": {},
   "source": [
    "1’den 100’e kadar olan sayılardan: \n",
    "• Hem 3’e hem 5’e bölünebilenlerin karelerini içeren bir liste oluşturun. \n",
    "• Sonucu ekrana yazdırın."
   ]
  },
  {
   "cell_type": "code",
   "execution_count": 1,
   "id": "13cb4ce9",
   "metadata": {},
   "outputs": [
    {
     "name": "stdout",
     "output_type": "stream",
     "text": [
      "[225, 900, 2025, 3600, 5625, 8100]\n"
     ]
    }
   ],
   "source": [
    "sonuc=[]\n",
    "for i in range(1,101):\n",
    "    if(i%3==0 and i%5==0):\n",
    "        i *=i\n",
    "        sonuc.append(i)\n",
    "print(sonuc)  "
   ]
  },
  {
   "cell_type": "markdown",
   "id": "6291fa1b",
   "metadata": {},
   "source": [
    "# Soru 9 – String İşlemleri "
   ]
  },
  {
   "cell_type": "markdown",
   "id": "0bb4d6b8",
   "metadata": {},
   "source": [
    "Bir cümle alın. \n",
    "• Cümledeki kelimeleri split() ile ayırın. \n",
    "• Her kelimenin ilk harfini büyük yaparak yeni bir string oluşturun. \n",
    "• Örnek: \"python veri bilimi\" → \"Python Veri Bilimi\""
   ]
  },
  {
   "cell_type": "code",
   "execution_count": 1,
   "id": "8af3b72e",
   "metadata": {},
   "outputs": [
    {
     "name": "stdout",
     "output_type": "stream",
     "text": [
      "Bir cümle girin:beni adım zeynep tek\n",
      "Beni Adım Zeynep Tek\n"
     ]
    }
   ],
   "source": [
    "cumle=input(\"Bir cümle girin:\")\n",
    "cumle=cumle.split()\n",
    "sonuc=[]\n",
    "for i in cumle:\n",
    "    sonuc.append(i.capitalize())\n",
    "sonuc=\" \".join(sonuc)\n",
    "print(sonuc)"
   ]
  },
  {
   "cell_type": "markdown",
   "id": "3cfbc6c2",
   "metadata": {},
   "source": [
    "# Mini Proje – Film Yorumu Analizi \n"
   ]
  },
  {
   "cell_type": "markdown",
   "id": "78bfde4a",
   "metadata": {},
   "source": [
    "Proje Tanımı: \n",
    "Kullanıcıdan birkaç film yorumu alın (örneğin 5–6 yorum). - Yorumları bir listeye atın. - Her yorumun uzunluğunu (karakter sayısı) bulun. - Kaç yorumda \"iyi\" kelimesi geçtiğini sayın. - En uzun yorumu ve en kısa yorumu ekrana yazdırın. - Tüm yorumların ortalama uzunluğunu hesaplayın"
   ]
  },
  {
   "cell_type": "code",
   "execution_count": 7,
   "id": "367ca76b",
   "metadata": {},
   "outputs": [
    {
     "name": "stdout",
     "output_type": "stream",
     "text": [
      "Yorum girin:bu ne bicim filim\n",
      "Yorum girin:baya beğendim\n",
      "Yorum girin:iyi ve hoş\n",
      "Yorum girin:iyi\n",
      "Toplam yorum sayısı: 4\n",
      "'iyi' geçen yorum sayısı:  2\n",
      "En uzun yorum:  bu ne bicim filim\n",
      "En kısa yorum: iyi\n",
      "Ortalama uzunluk  10.75\n"
     ]
    }
   ],
   "source": [
    "list=[]\n",
    "\n",
    "for i in range(1,5):\n",
    "    yorum=input(\"Yorum girin:\")\n",
    "    list.append(yorum)\n",
    "en_uzun=max(list,key=len)\n",
    "en_kisa=min(list,key=len)\n",
    "u_uzunluk=len(en_uzun)\n",
    "k_uzunluk=len(en_kisa)\n",
    "toplam_uzunluk=sum(len(i) for i in list)\n",
    "iyi_varMi=[ i for i in list if \"iyi\"in i.lower()]\n",
    "iyi_varMİ_count=len(iyi_varMi)\n",
    "ortalama_uzunluk=toplam_uzunluk/(len(list))\n",
    "\n",
    "print(\"Toplam yorum sayısı:\",len(list))\n",
    "print(\"'iyi' geçen yorum sayısı: \",iyi_varMİ_count)\n",
    "print(\"En uzun yorum: \",en_uzun)\n",
    "print(\"En kısa yorum:\",en_kisa)\n",
    "print(\"Ortalama uzunluk \",ortalama_uzunluk)"
   ]
  }
 ],
 "metadata": {
  "kernelspec": {
   "display_name": "Python 3 (ipykernel)",
   "language": "python",
   "name": "python3"
  },
  "language_info": {
   "codemirror_mode": {
    "name": "ipython",
    "version": 3
   },
   "file_extension": ".py",
   "mimetype": "text/x-python",
   "name": "python",
   "nbconvert_exporter": "python",
   "pygments_lexer": "ipython3",
   "version": "3.11.5"
  }
 },
 "nbformat": 4,
 "nbformat_minor": 5
}
