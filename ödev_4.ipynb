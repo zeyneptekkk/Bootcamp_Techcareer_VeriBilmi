{
 "cells": [
  {
   "cell_type": "markdown",
   "id": "6b8fa401",
   "metadata": {},
   "source": [
    "# Veri Bilmi Ödevi- Numpy ve Pandas Uygulamaları"
   ]
  },
  {
   "cell_type": "markdown",
   "id": "5137ef64",
   "metadata": {},
   "source": [
    "📘 Veri Bilimi Ödevi – Numpy ve Pandas Uygulamaları\n",
    "1. Numpy Bölümü\n",
    "\n",
    "Aşağıdaki adımları uygulayın:\n",
    "\n",
    "1.1. Numpy ile Matris İşlemleri\n",
    "\n",
    "5x5 boyutunda rastgele (0-100 arasında) tam sayılardan oluşan bir matris oluşturun.\n",
    "\n",
    "Bu matrisin:\n",
    "\n",
    "Ortalama, standart sapma ve varyansını hesaplayın.\n",
    "\n",
    "En büyük ve en küçük değerlerini bulun.\n",
    "\n",
    "Köşegenindeki elemanların toplamını bulun.\n",
    "\n"
   ]
  },
  {
   "cell_type": "code",
   "execution_count": 4,
   "id": "8cbca4e7",
   "metadata": {},
   "outputs": [],
   "source": [
    "import numpy as np\n",
    "import pandas as pd"
   ]
  },
  {
   "cell_type": "code",
   "execution_count": 14,
   "id": "2f4f4391",
   "metadata": {},
   "outputs": [
    {
     "data": {
      "text/plain": [
       "array([[20, 80, 48,  4, 55],\n",
       "       [ 3, 94, 76, 84, 63],\n",
       "       [98, 13, 98, 72, 48],\n",
       "       [52, 89, 61, 87, 83],\n",
       "       [37, 64, 68, 90, 70]])"
      ]
     },
     "execution_count": 14,
     "metadata": {},
     "output_type": "execute_result"
    }
   ],
   "source": [
    "matris=np.random.randint(0,100,25).reshape(5,5)\n",
    "matris\n"
   ]
  },
  {
   "cell_type": "code",
   "execution_count": 15,
   "id": "16afbf96",
   "metadata": {},
   "outputs": [
    {
     "data": {
      "text/plain": [
       "62.28"
      ]
     },
     "execution_count": 15,
     "metadata": {},
     "output_type": "execute_result"
    }
   ],
   "source": [
    "matris.mean()"
   ]
  },
  {
   "cell_type": "code",
   "execution_count": 16,
   "id": "95b1024c",
   "metadata": {},
   "outputs": [
    {
     "data": {
      "text/plain": [
       "27.985024566721393"
      ]
     },
     "execution_count": 16,
     "metadata": {},
     "output_type": "execute_result"
    }
   ],
   "source": [
    "matris.std()"
   ]
  },
  {
   "cell_type": "code",
   "execution_count": 17,
   "id": "20e252e3",
   "metadata": {},
   "outputs": [
    {
     "data": {
      "text/plain": [
       "783.1615999999999"
      ]
     },
     "execution_count": 17,
     "metadata": {},
     "output_type": "execute_result"
    }
   ],
   "source": [
    "matris.var()"
   ]
  },
  {
   "cell_type": "code",
   "execution_count": 18,
   "id": "3d37be46",
   "metadata": {},
   "outputs": [
    {
     "data": {
      "text/plain": [
       "98"
      ]
     },
     "execution_count": 18,
     "metadata": {},
     "output_type": "execute_result"
    }
   ],
   "source": [
    "matris.max()"
   ]
  },
  {
   "cell_type": "code",
   "execution_count": 19,
   "id": "81f49aae",
   "metadata": {},
   "outputs": [
    {
     "data": {
      "text/plain": [
       "3"
      ]
     },
     "execution_count": 19,
     "metadata": {},
     "output_type": "execute_result"
    }
   ],
   "source": [
    "matris.min()"
   ]
  },
  {
   "cell_type": "code",
   "execution_count": 22,
   "id": "22586671",
   "metadata": {},
   "outputs": [
    {
     "data": {
      "text/plain": [
       "369"
      ]
     },
     "execution_count": 22,
     "metadata": {},
     "output_type": "execute_result"
    }
   ],
   "source": [
    "sum(np.diag(matris))"
   ]
  },
  {
   "cell_type": "markdown",
   "id": "5506022d",
   "metadata": {},
   "source": [
    "1.2. Numpy ile Veri Simülasyonu\n",
    "\n",
    "1000 adet öğrencinin sınav puanlarını (0-100 arası, normal dağılımdan gelen) simüle edin.\n",
    "\n",
    "Ortalama, medyan ve standart sapmayı hesaplayın.\n",
    "\n",
    "50’den düşük alan kaç öğrenci olduğunu bulun."
   ]
  },
  {
   "cell_type": "code",
   "execution_count": 27,
   "id": "d00a4e85",
   "metadata": {},
   "outputs": [
    {
     "data": {
      "text/plain": [
       "array([ 99,  16,  99,  64,  84,  97,  84,  73,  60,  20,  54,  83,  90,\n",
       "        66,  77,  35,  71,  13,  27,  52,  36,  24,   7,  63,  73,  45,\n",
       "        55,  47,  90,  56,  64,  41,  96,  73,  50,  58,  17,  14,   4,\n",
       "        85,  97,  36,  97,  29,  51,  80,  85,  53,   2,  42,  16,  62,\n",
       "        19,  87,  50,  19,  34,  60,  60,  17,  80,  67,  14,  60,  43,\n",
       "        81,  66,  38,  16,  27,  25,  46,  20,  29,  48,  70,  98,  98,\n",
       "        29,  53,  56,  86,  59,  73,  47,   7,  83,   7,  73,  45,  38,\n",
       "         6,  61,  81,  14,   1,   9,  77,  61,  50,  61, 100,  92,  53,\n",
       "        58,  71,  86,   3,  92,  82,  24,   1,  21,  39,  57,  29,  21,\n",
       "        85,  14,  90, 100,  93,  31,  32,  67,  68,   8,  84,  46,  16,\n",
       "        89,  14,  97,   9,  74,  60,  54,  80,  92,   7,   9,  71,  11,\n",
       "        87,  28,   8,  30,  43,  54,  77,  25,  52,  71,  63,  75,  35,\n",
       "        19,  28,  99,  99,  74,  51,   1,  57,  99,  47,  61,  25,  77,\n",
       "        28,  81,  44,   1,   0,  88,  24,  28,  83,  47,  94,  89,  96,\n",
       "        64,  41,  80,  64,  28,  32,  15,  96,  82,  32,  41,   7,  36,\n",
       "        49,  12,  31,  41,  14,  95,  45,  77,  60,   5,  51,  74,  25,\n",
       "        57,  95,  12,  84,   0,  51,  40,  42,  35,  33,  32,  90,  30,\n",
       "        22,  16,  31,  33,  67,  76,  77,  99,   9,   4,   0,  49,  78,\n",
       "        41,  49,  14,   9,  96,  27,  17,  49,  84,  57,  98,  56,  42,\n",
       "        46,  21,  67,  82,  19,  89,  40,  56,  49,  24,  41,  65,  56,\n",
       "        96,  86,  26,  38,  57,  99,  10,  71,   8,   6,  63,  67,  16,\n",
       "        90,  86,  99,  31,   3,  68,  32,  46,  41,  94,  29,  87,  75,\n",
       "        67,  93,  61,   7,  13,  99,   0,  68,  84,  88,  22,  64,  32,\n",
       "        91,  25,  81,   5,  36,  37,  58,   3,  83,   8,  57,  72,  18,\n",
       "        17,  92,  98,   1,  68,  38,  57,  79,  84,  81,  28,  53,  24,\n",
       "        67,  87,  83,  92,  31,  78,  17,  98,  33,   7,  43,  51,  86,\n",
       "        39,  52,  86,  40,  93,  58,  47,  14,  39,  86,  55,  41,  17,\n",
       "        71,  83,  61,  21,  11,  75,   3,  41,  59,  49,  74,  37,  42,\n",
       "        26,  44,  12,  58,  28,  48,  29,  21,  66,   1,  81,  97,  58,\n",
       "         1,  31,  43,  54,  40,  15,   9,  58,  49,  67,  26,  64,  19,\n",
       "        13,  70,  91,  92,  97,  93,  38,  19,  82,   6,  86,  45,   5,\n",
       "        24,  66,  59,  41,  16,  78,  67,  97,  56,  80,  28,  89,  75,\n",
       "        21,  26,  33,  37,  56,  61,  52,  44,  23,  51,  75,  69,  79,\n",
       "        79,  87,  88,  73,  21,  43,  83,  80,  78,  37,  65,  67,  33,\n",
       "        81,  15,  23,  12,  19,  99,  39,  31,  14,  30,  93,   6,  32,\n",
       "        22,  24,  76,  93,  30,  13,  61,  56,  49,  44,  89,  21,  46,\n",
       "        32,  13,  54,  33,  68,  79,  65,  15,  82,  13,  43,  59,  80,\n",
       "        99,  90,  38,  19,  30,  72,  10,  30,  29,  20,  50,  53,  18,\n",
       "        20,  65,  47,  33,   5,  16,  96,  60,  16,   2,  70,  28,  57,\n",
       "         5,  74,  15,  84,  73,  61,  10,  56,  84,  71,  97,  69,  98,\n",
       "        92,   5,  99,  46,  95,  68,  96,  24,  97,  93,  46,  29,   2,\n",
       "        83,  29,  15,  99,  24,  25,  94,  35,   0,  26,  31,   7,  74,\n",
       "        69,  59,  12,  76,  74,  95,  29,  71,   9,  40,  11,  42,  53,\n",
       "        52,  75,  49,  73,   6,  84,   1,  38,  81,  53,  26,  43,  85,\n",
       "        87,  84,  84,  92,   6,  71,   0,  68,  94,  90,  32,  87,  30,\n",
       "        21,  35,   8,  47,  36,  22,  58,  25,   8,  19,  40,  43,  91,\n",
       "        55,  67,   4,  44,   9,  83,   0,  65,  14,  62,  33,  54,   2,\n",
       "         8,  25,  84,  26,  79,  75,  99,  37,  30,  94,  37,  54,  33,\n",
       "        63,  66,  90,  59,  56,  25,  68,  65,  35,  11,  74,  17,  72,\n",
       "        75,  85,  12, 100,  76,   2,  47,  42,  92,  87,  38,  23,  21,\n",
       "        19,  93,  63,  66,  15,  11,  86,  25,  28,  16,  38,  57,  80,\n",
       "         3,   9,  93,   2,  89,  85,  32,  46,  34,  50,  40,  59,   6,\n",
       "        64,  60,  50,  67,  15,  76,  16,  55,  37,  16,  82,  97,  61,\n",
       "        55,  81,   8,  67,  68,  74,  55,  15,  15,  26,  96,  82,  13,\n",
       "        34,  68,  11,  59,  43,  55,  95,  69,   3,  20,  85,  41,  86,\n",
       "        96,  12,  93,  94,  68,  91,  53,  41,  49,  66,  32,  96,  75,\n",
       "        62,  71,  50,  47,  82,  98,  31,   7,  47,  36,  74,  37,  83,\n",
       "        88,  77,  75,  86,  31,  68,  12,  15,  67,  45,  92,   5,  98,\n",
       "        54, 100,  98,  58,  81,  92,  57,  86,  40,  80,  83,  78,  43,\n",
       "        70,  66,  54,  19,   9,  59,  34,  67,  41,  85,  20,  63,  70,\n",
       "        82,  44,  97,  10,  36,  74,  27,  38,  61,  78,  22,   1,  52,\n",
       "        16,   8,  69,  58,  74,  68,  86,  53,  70,  70,   9,  43,  99,\n",
       "         3,  90,  51,   5,  67,  24,  25,   1,  51,  96,  72, 100,   6,\n",
       "        25,  38,  72,  23,  29,  43,  73,  81,  30,  84,  73,   0,   0,\n",
       "        38,  43,  81,  59,  50,  17,  89,   3,  89,  96,  31,  27,  63,\n",
       "        83,  24,  62,  66,   7,  93,  15,  18,   5,  59,  20,  17,  38,\n",
       "        28,  60,  80,  68,  36,  34,  64,  73,  18,  39,  90,  43,  12,\n",
       "        13,  80,  22,  66,  30,  66,  76,  21,  90,  17,  83,  51,  70,\n",
       "        37,  32,  52,  91,  64,   7,  79,  82,  24,  24,  12,  28,  95,\n",
       "        95,  94,  39,  69,  80,  94,  66,  61,  14,  38,  54,  24,  76,\n",
       "        11,  37,  25,  16,  84,  30,  37,   2,  62,  55,   8,  90,  34,\n",
       "        76,  95,  73,  40,  67,   8,  72,  19,  39,  63,  93,  69,  32,\n",
       "        12,  96,  45,  97,  92,  14,  45,  77, 100,  81,  78,   0,  41,\n",
       "        92,   1,  21,  46,   3,  79,  38,  35,  83,  72,  48,  55,  77,\n",
       "        30,  48,  27,   3,  66,   1,  51,  74,  65,  28,  27,  52,  36,\n",
       "        99,  39,  53,  59,  23,  97,  68,  10,  70,  45,  37,  91,  15,\n",
       "        39,  66,  52,  12,  94,  58,  50,  35,  43,   0,  73,  86])"
      ]
     },
     "execution_count": 27,
     "metadata": {},
     "output_type": "execute_result"
    }
   ],
   "source": [
    "ogrenciler=np.random.randint(0,101,1000)\n",
    "ogrenciler"
   ]
  },
  {
   "cell_type": "code",
   "execution_count": 28,
   "id": "65004d89",
   "metadata": {},
   "outputs": [
    {
     "data": {
      "text/plain": [
       "50.92"
      ]
     },
     "execution_count": 28,
     "metadata": {},
     "output_type": "execute_result"
    }
   ],
   "source": [
    "ogrenciler.mean()"
   ]
  },
  {
   "cell_type": "code",
   "execution_count": 29,
   "id": "5604c564",
   "metadata": {},
   "outputs": [
    {
     "data": {
      "text/plain": [
       "51.5"
      ]
     },
     "execution_count": 29,
     "metadata": {},
     "output_type": "execute_result"
    }
   ],
   "source": [
    "np.median(ogrenciler)"
   ]
  },
  {
   "cell_type": "code",
   "execution_count": 30,
   "id": "6514e55d",
   "metadata": {},
   "outputs": [
    {
     "data": {
      "text/plain": [
       "29.12173758552192"
      ]
     },
     "execution_count": 30,
     "metadata": {},
     "output_type": "execute_result"
    }
   ],
   "source": [
    "ogrenciler.std()"
   ]
  },
  {
   "cell_type": "code",
   "execution_count": 34,
   "id": "35008477",
   "metadata": {},
   "outputs": [
    {
     "data": {
      "text/plain": [
       "481"
      ]
     },
     "execution_count": 34,
     "metadata": {},
     "output_type": "execute_result"
    }
   ],
   "source": [
    "len(ogrenciler[ogrenciler<50])"
   ]
  },
  {
   "cell_type": "markdown",
   "id": "6157a67c",
   "metadata": {},
   "source": [
    "2-Pandas Bölümü"
   ]
  },
  {
   "cell_type": "markdown",
   "id": "bade55a0",
   "metadata": {},
   "source": [
    "DataFrame oluşturulur.\n",
    "\n",
    "Her dersin ortalaması bulunur.\n",
    "\n",
    "Matematikte en yüksek notu alan öğrenci seçilir.\n",
    "\n",
    "Her öğrencinin ortalaması hesaplanır ve yeni sütun eklenir.\n",
    "\n",
    "Bölümlere göre ortalama başarılar hesaplanır.\n",
    "\n",
    "Ortalama puanı 70’in üzerinde olan öğrenciler filtrelenir."
   ]
  },
  {
   "cell_type": "code",
   "execution_count": 36,
   "id": "3e58a69d",
   "metadata": {},
   "outputs": [
    {
     "data": {
      "text/html": [
       "<div>\n",
       "<style scoped>\n",
       "    .dataframe tbody tr th:only-of-type {\n",
       "        vertical-align: middle;\n",
       "    }\n",
       "\n",
       "    .dataframe tbody tr th {\n",
       "        vertical-align: top;\n",
       "    }\n",
       "\n",
       "    .dataframe thead th {\n",
       "        text-align: right;\n",
       "    }\n",
       "</style>\n",
       "<table border=\"1\" class=\"dataframe\">\n",
       "  <thead>\n",
       "    <tr style=\"text-align: right;\">\n",
       "      <th></th>\n",
       "      <th>Öğrenci</th>\n",
       "      <th>Yaş</th>\n",
       "      <th>Bölüm</th>\n",
       "      <th>Matematik</th>\n",
       "      <th>Fizik</th>\n",
       "      <th>Kimya</th>\n",
       "    </tr>\n",
       "  </thead>\n",
       "  <tbody>\n",
       "    <tr>\n",
       "      <th>0</th>\n",
       "      <td>Ali</td>\n",
       "      <td>20</td>\n",
       "      <td>Bilgisayar</td>\n",
       "      <td>70</td>\n",
       "      <td>65</td>\n",
       "      <td>80</td>\n",
       "    </tr>\n",
       "    <tr>\n",
       "      <th>1</th>\n",
       "      <td>Ayşe</td>\n",
       "      <td>21</td>\n",
       "      <td>Fizik</td>\n",
       "      <td>60</td>\n",
       "      <td>75</td>\n",
       "      <td>85</td>\n",
       "    </tr>\n",
       "    <tr>\n",
       "      <th>2</th>\n",
       "      <td>Mehmet</td>\n",
       "      <td>19</td>\n",
       "      <td>Kimya</td>\n",
       "      <td>80</td>\n",
       "      <td>70</td>\n",
       "      <td>65</td>\n",
       "    </tr>\n",
       "    <tr>\n",
       "      <th>3</th>\n",
       "      <td>Zeynep</td>\n",
       "      <td>22</td>\n",
       "      <td>Bilgisayar</td>\n",
       "      <td>90</td>\n",
       "      <td>85</td>\n",
       "      <td>95</td>\n",
       "    </tr>\n",
       "    <tr>\n",
       "      <th>4</th>\n",
       "      <td>Ahmet</td>\n",
       "      <td>20</td>\n",
       "      <td>Fizik</td>\n",
       "      <td>55</td>\n",
       "      <td>60</td>\n",
       "      <td>70</td>\n",
       "    </tr>\n",
       "  </tbody>\n",
       "</table>\n",
       "</div>"
      ],
      "text/plain": [
       "  Öğrenci  Yaş       Bölüm  Matematik  Fizik  Kimya\n",
       "0     Ali   20  Bilgisayar         70     65     80\n",
       "1    Ayşe   21       Fizik         60     75     85\n",
       "2  Mehmet   19       Kimya         80     70     65\n",
       "3  Zeynep   22  Bilgisayar         90     85     95\n",
       "4   Ahmet   20       Fizik         55     60     70"
      ]
     },
     "execution_count": 36,
     "metadata": {},
     "output_type": "execute_result"
    }
   ],
   "source": [
    "data = {\n",
    "    \"Öğrenci\": [\"Ali\", \"Ayşe\", \"Mehmet\", \"Zeynep\", \"Ahmet\"],\n",
    "    \"Yaş\": [20, 21, 19, 22, 20],\n",
    "    \"Bölüm\": [\"Bilgisayar\", \"Fizik\", \"Kimya\", \"Bilgisayar\", \"Fizik\"],\n",
    "    \"Matematik\": [70, 60, 80, 90, 55],\n",
    "    \"Fizik\": [65, 75, 70, 85, 60],\n",
    "    \"Kimya\": [80, 85, 65, 95, 70]\n",
    "}\n",
    "\n",
    "df=pd.DataFrame(data)\n",
    "df"
   ]
  },
  {
   "cell_type": "code",
   "execution_count": 41,
   "id": "81bfc78d",
   "metadata": {},
   "outputs": [
    {
     "data": {
      "text/plain": [
       "Matematik    71.0\n",
       "dtype: float64"
      ]
     },
     "execution_count": 41,
     "metadata": {},
     "output_type": "execute_result"
    }
   ],
   "source": [
    "mat=df[\"Matematik\"]\n",
    "mat_ortalama=pd.DataFrame(mat)\n",
    "mat_ortalama.mean()"
   ]
  },
  {
   "cell_type": "code",
   "execution_count": 44,
   "id": "cd1daea5",
   "metadata": {},
   "outputs": [
    {
     "data": {
      "text/plain": [
       "71.0"
      ]
     },
     "execution_count": 44,
     "metadata": {},
     "output_type": "execute_result"
    }
   ],
   "source": [
    "fizik=df[\"Fizik\"]\n",
    "fizik.mean()"
   ]
  },
  {
   "cell_type": "code",
   "execution_count": 43,
   "id": "30ef5381",
   "metadata": {},
   "outputs": [
    {
     "data": {
      "text/plain": [
       "79.0"
      ]
     },
     "execution_count": 43,
     "metadata": {},
     "output_type": "execute_result"
    }
   ],
   "source": [
    "kim=df[\"Kimya\"]\n",
    "kim.mean()"
   ]
  },
  {
   "cell_type": "code",
   "execution_count": 45,
   "id": "a3d85158",
   "metadata": {},
   "outputs": [
    {
     "data": {
      "text/plain": [
       "90"
      ]
     },
     "execution_count": 45,
     "metadata": {},
     "output_type": "execute_result"
    }
   ],
   "source": [
    "mat.max()"
   ]
  },
  {
   "cell_type": "code",
   "execution_count": 47,
   "id": "0742276f",
   "metadata": {},
   "outputs": [
    {
     "data": {
      "text/html": [
       "<div>\n",
       "<style scoped>\n",
       "    .dataframe tbody tr th:only-of-type {\n",
       "        vertical-align: middle;\n",
       "    }\n",
       "\n",
       "    .dataframe tbody tr th {\n",
       "        vertical-align: top;\n",
       "    }\n",
       "\n",
       "    .dataframe thead th {\n",
       "        text-align: right;\n",
       "    }\n",
       "</style>\n",
       "<table border=\"1\" class=\"dataframe\">\n",
       "  <thead>\n",
       "    <tr style=\"text-align: right;\">\n",
       "      <th></th>\n",
       "      <th>Öğrenci</th>\n",
       "      <th>Yaş</th>\n",
       "      <th>Bölüm</th>\n",
       "      <th>Matematik</th>\n",
       "      <th>Fizik</th>\n",
       "      <th>Kimya</th>\n",
       "      <th>Ortalama</th>\n",
       "    </tr>\n",
       "  </thead>\n",
       "  <tbody>\n",
       "    <tr>\n",
       "      <th>0</th>\n",
       "      <td>Ali</td>\n",
       "      <td>20</td>\n",
       "      <td>Bilgisayar</td>\n",
       "      <td>70</td>\n",
       "      <td>65</td>\n",
       "      <td>80</td>\n",
       "      <td>71.666667</td>\n",
       "    </tr>\n",
       "    <tr>\n",
       "      <th>1</th>\n",
       "      <td>Ayşe</td>\n",
       "      <td>21</td>\n",
       "      <td>Fizik</td>\n",
       "      <td>60</td>\n",
       "      <td>75</td>\n",
       "      <td>85</td>\n",
       "      <td>73.333333</td>\n",
       "    </tr>\n",
       "    <tr>\n",
       "      <th>2</th>\n",
       "      <td>Mehmet</td>\n",
       "      <td>19</td>\n",
       "      <td>Kimya</td>\n",
       "      <td>80</td>\n",
       "      <td>70</td>\n",
       "      <td>65</td>\n",
       "      <td>71.666667</td>\n",
       "    </tr>\n",
       "    <tr>\n",
       "      <th>3</th>\n",
       "      <td>Zeynep</td>\n",
       "      <td>22</td>\n",
       "      <td>Bilgisayar</td>\n",
       "      <td>90</td>\n",
       "      <td>85</td>\n",
       "      <td>95</td>\n",
       "      <td>90.000000</td>\n",
       "    </tr>\n",
       "    <tr>\n",
       "      <th>4</th>\n",
       "      <td>Ahmet</td>\n",
       "      <td>20</td>\n",
       "      <td>Fizik</td>\n",
       "      <td>55</td>\n",
       "      <td>60</td>\n",
       "      <td>70</td>\n",
       "      <td>61.666667</td>\n",
       "    </tr>\n",
       "  </tbody>\n",
       "</table>\n",
       "</div>"
      ],
      "text/plain": [
       "  Öğrenci  Yaş       Bölüm  Matematik  Fizik  Kimya   Ortalama\n",
       "0     Ali   20  Bilgisayar         70     65     80  71.666667\n",
       "1    Ayşe   21       Fizik         60     75     85  73.333333\n",
       "2  Mehmet   19       Kimya         80     70     65  71.666667\n",
       "3  Zeynep   22  Bilgisayar         90     85     95  90.000000\n",
       "4   Ahmet   20       Fizik         55     60     70  61.666667"
      ]
     },
     "execution_count": 47,
     "metadata": {},
     "output_type": "execute_result"
    }
   ],
   "source": [
    "df[\"Ortalama\"]=df[[\"Matematik\",\"Fizik\",\"Kimya\"]].mean(axis=1)\n",
    "df"
   ]
  },
  {
   "cell_type": "code",
   "execution_count": 61,
   "id": "5d792dc8",
   "metadata": {},
   "outputs": [
    {
     "data": {
      "text/html": [
       "<div>\n",
       "<style scoped>\n",
       "    .dataframe tbody tr th:only-of-type {\n",
       "        vertical-align: middle;\n",
       "    }\n",
       "\n",
       "    .dataframe tbody tr th {\n",
       "        vertical-align: top;\n",
       "    }\n",
       "\n",
       "    .dataframe thead th {\n",
       "        text-align: right;\n",
       "    }\n",
       "</style>\n",
       "<table border=\"1\" class=\"dataframe\">\n",
       "  <thead>\n",
       "    <tr style=\"text-align: right;\">\n",
       "      <th></th>\n",
       "      <th>Öğrenci</th>\n",
       "      <th>Yaş</th>\n",
       "      <th>Bölüm</th>\n",
       "      <th>Matematik</th>\n",
       "      <th>Fizik</th>\n",
       "      <th>Kimya</th>\n",
       "      <th>Ortalama</th>\n",
       "    </tr>\n",
       "  </thead>\n",
       "  <tbody>\n",
       "    <tr>\n",
       "      <th>0</th>\n",
       "      <td>Ali</td>\n",
       "      <td>20</td>\n",
       "      <td>Bilgisayar</td>\n",
       "      <td>70</td>\n",
       "      <td>65</td>\n",
       "      <td>80</td>\n",
       "      <td>71.666667</td>\n",
       "    </tr>\n",
       "    <tr>\n",
       "      <th>1</th>\n",
       "      <td>Ayşe</td>\n",
       "      <td>21</td>\n",
       "      <td>Fizik</td>\n",
       "      <td>60</td>\n",
       "      <td>75</td>\n",
       "      <td>85</td>\n",
       "      <td>73.333333</td>\n",
       "    </tr>\n",
       "    <tr>\n",
       "      <th>2</th>\n",
       "      <td>Mehmet</td>\n",
       "      <td>19</td>\n",
       "      <td>Kimya</td>\n",
       "      <td>80</td>\n",
       "      <td>70</td>\n",
       "      <td>65</td>\n",
       "      <td>71.666667</td>\n",
       "    </tr>\n",
       "    <tr>\n",
       "      <th>3</th>\n",
       "      <td>Zeynep</td>\n",
       "      <td>22</td>\n",
       "      <td>Bilgisayar</td>\n",
       "      <td>90</td>\n",
       "      <td>85</td>\n",
       "      <td>95</td>\n",
       "      <td>90.000000</td>\n",
       "    </tr>\n",
       "    <tr>\n",
       "      <th>4</th>\n",
       "      <td>Ahmet</td>\n",
       "      <td>20</td>\n",
       "      <td>Fizik</td>\n",
       "      <td>55</td>\n",
       "      <td>60</td>\n",
       "      <td>70</td>\n",
       "      <td>61.666667</td>\n",
       "    </tr>\n",
       "  </tbody>\n",
       "</table>\n",
       "</div>"
      ],
      "text/plain": [
       "  Öğrenci  Yaş       Bölüm  Matematik  Fizik  Kimya   Ortalama\n",
       "0     Ali   20  Bilgisayar         70     65     80  71.666667\n",
       "1    Ayşe   21       Fizik         60     75     85  73.333333\n",
       "2  Mehmet   19       Kimya         80     70     65  71.666667\n",
       "3  Zeynep   22  Bilgisayar         90     85     95  90.000000\n",
       "4   Ahmet   20       Fizik         55     60     70  61.666667"
      ]
     },
     "execution_count": 61,
     "metadata": {},
     "output_type": "execute_result"
    }
   ],
   "source": [
    "df=df.drop(\"Mat Başarı\" ,axis=1)\n",
    "df"
   ]
  },
  {
   "cell_type": "code",
   "execution_count": 67,
   "id": "454f2081",
   "metadata": {},
   "outputs": [
    {
     "data": {
      "text/html": [
       "<div>\n",
       "<style scoped>\n",
       "    .dataframe tbody tr th:only-of-type {\n",
       "        vertical-align: middle;\n",
       "    }\n",
       "\n",
       "    .dataframe tbody tr th {\n",
       "        vertical-align: top;\n",
       "    }\n",
       "\n",
       "    .dataframe thead th {\n",
       "        text-align: right;\n",
       "    }\n",
       "</style>\n",
       "<table border=\"1\" class=\"dataframe\">\n",
       "  <thead>\n",
       "    <tr style=\"text-align: right;\">\n",
       "      <th></th>\n",
       "      <th>Öğrenci</th>\n",
       "    </tr>\n",
       "  </thead>\n",
       "  <tbody>\n",
       "    <tr>\n",
       "      <th>0</th>\n",
       "      <td>Ali</td>\n",
       "    </tr>\n",
       "    <tr>\n",
       "      <th>1</th>\n",
       "      <td>Ayşe</td>\n",
       "    </tr>\n",
       "    <tr>\n",
       "      <th>2</th>\n",
       "      <td>Mehmet</td>\n",
       "    </tr>\n",
       "    <tr>\n",
       "      <th>3</th>\n",
       "      <td>Zeynep</td>\n",
       "    </tr>\n",
       "  </tbody>\n",
       "</table>\n",
       "</div>"
      ],
      "text/plain": [
       "  Öğrenci\n",
       "0     Ali\n",
       "1    Ayşe\n",
       "2  Mehmet\n",
       "3  Zeynep"
      ]
     },
     "execution_count": 67,
     "metadata": {},
     "output_type": "execute_result"
    }
   ],
   "source": [
    "yuksek_ort=df[df[\"Ortalama\"]>70]\n",
    "pd.DataFrame(yuksek_ort[\"Öğrenci\"])"
   ]
  }
 ],
 "metadata": {
  "kernelspec": {
   "display_name": "Python 3 (ipykernel)",
   "language": "python",
   "name": "python3"
  },
  "language_info": {
   "codemirror_mode": {
    "name": "ipython",
    "version": 3
   },
   "file_extension": ".py",
   "mimetype": "text/x-python",
   "name": "python",
   "nbconvert_exporter": "python",
   "pygments_lexer": "ipython3",
   "version": "3.11.5"
  }
 },
 "nbformat": 4,
 "nbformat_minor": 5
}
