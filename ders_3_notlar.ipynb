{
 "cells": [
  {
   "cell_type": "code",
   "execution_count": 3,
   "id": "594494ef",
   "metadata": {},
   "outputs": [
    {
     "data": {
      "text/plain": [
       "1757440342.820443"
      ]
     },
     "execution_count": 3,
     "metadata": {},
     "output_type": "execute_result"
    }
   ],
   "source": [
    "import numpy as np\n",
    "import time"
   ]
  },
  {
   "cell_type": "code",
   "execution_count": 25,
   "id": "4a37cf7c",
   "metadata": {},
   "outputs": [],
   "source": [
    "def python_version():\n",
    "    start_time=time.time()\n",
    "    A=list(range(100000))\n",
    "    B=list(range(100000))\n",
    "    C=[A[i]+B[i] for i in range(len(A))]\n",
    "    end_time=time.time()\n",
    "    sure=end_time-start_time\n",
    "    print(f'Python versiyonu çalışma süresi : {sure}')"
   ]
  },
  {
   "cell_type": "code",
   "execution_count": 23,
   "id": "4bb710d6",
   "metadata": {},
   "outputs": [],
   "source": [
    "def numpy_version():\n",
    "    start_time=time.time()\n",
    "    A=np.arange(100000)\n",
    "    B=np.arange(100000)\n",
    "    C=A+B\n",
    "    end_time=time.time()\n",
    "    sure=end_time-start_time\n",
    "    print(f'Numpy versiyonu çalışma süresi : {sure}')\n"
   ]
  },
  {
   "cell_type": "code",
   "execution_count": 26,
   "id": "d62ac23c",
   "metadata": {},
   "outputs": [
    {
     "name": "stdout",
     "output_type": "stream",
     "text": [
      "Python versiyonu çalışma süresi : 0.012021303176879883\n",
      "Numpy versiyonu çalışma süresi : 0.001050710678100586\n"
     ]
    }
   ],
   "source": [
    "python_version()\n",
    "numpy_version()"
   ]
  },
  {
   "cell_type": "code",
   "execution_count": 28,
   "id": "2139da2e",
   "metadata": {},
   "outputs": [],
   "source": [
    "list1=[1,2,3,4,5,6,7]\n",
    "arr1=np.array(list1)"
   ]
  },
  {
   "cell_type": "code",
   "execution_count": 30,
   "id": "9d4fa105",
   "metadata": {},
   "outputs": [
    {
     "data": {
      "text/plain": [
       "array([1, 2, 3, 4, 5, 6, 7])"
      ]
     },
     "execution_count": 30,
     "metadata": {},
     "output_type": "execute_result"
    }
   ],
   "source": [
    "arr1"
   ]
  },
  {
   "cell_type": "code",
   "execution_count": 31,
   "id": "5d7ade04",
   "metadata": {},
   "outputs": [
    {
     "data": {
      "text/plain": [
       "array([1., 2., 3., 4., 5., 6., 7.])"
      ]
     },
     "execution_count": 31,
     "metadata": {},
     "output_type": "execute_result"
    }
   ],
   "source": [
    "arr1.astype(float)"
   ]
  },
  {
   "cell_type": "code",
   "execution_count": 32,
   "id": "504f0273",
   "metadata": {},
   "outputs": [
    {
     "data": {
      "text/plain": [
       "array([ 0,  1,  2,  3,  4,  5,  6,  7,  8,  9, 10, 11, 12, 13, 14, 15, 16,\n",
       "       17, 18, 19, 20, 21, 22, 23, 24])"
      ]
     },
     "execution_count": 32,
     "metadata": {},
     "output_type": "execute_result"
    }
   ],
   "source": [
    "a=np.arange(0,25)\n",
    "a"
   ]
  },
  {
   "cell_type": "code",
   "execution_count": 33,
   "id": "7ca1a11f",
   "metadata": {},
   "outputs": [
    {
     "data": {
      "text/plain": [
       "array([ 0,  2,  4,  6,  8, 10, 12, 14, 16, 18, 20, 22, 24])"
      ]
     },
     "execution_count": 33,
     "metadata": {},
     "output_type": "execute_result"
    }
   ],
   "source": [
    "a=np.arange(0,25,2)\n",
    "a"
   ]
  },
  {
   "cell_type": "code",
   "execution_count": 34,
   "id": "15972e11",
   "metadata": {},
   "outputs": [
    {
     "data": {
      "text/plain": [
       "6"
      ]
     },
     "execution_count": 34,
     "metadata": {},
     "output_type": "execute_result"
    }
   ],
   "source": [
    "a[3]"
   ]
  },
  {
   "cell_type": "code",
   "execution_count": 35,
   "id": "5d570793",
   "metadata": {},
   "outputs": [
    {
     "data": {
      "text/plain": [
       "array([  0,   4,   8,  12,  16,  20,  24,  28,  32,  36,  40,  44,  48,\n",
       "        52,  56,  60,  64,  68,  72,  76,  80,  84,  88,  92,  96, 100,\n",
       "       104, 108, 112, 116, 120])"
      ]
     },
     "execution_count": 35,
     "metadata": {},
     "output_type": "execute_result"
    }
   ],
   "source": [
    "b=np.arange(0,123,4)\n",
    "b"
   ]
  },
  {
   "cell_type": "code",
   "execution_count": 38,
   "id": "6912fe30",
   "metadata": {},
   "outputs": [
    {
     "data": {
      "text/plain": [
       "array([100,  91,  82,  73,  64,  55,  46,  37,  28,  19,  10,   1,  -8,\n",
       "       -17])"
      ]
     },
     "execution_count": 38,
     "metadata": {},
     "output_type": "execute_result"
    }
   ],
   "source": [
    "c=np.arange(100,-20,-9)\n",
    "c"
   ]
  },
  {
   "cell_type": "code",
   "execution_count": 40,
   "id": "542408b4",
   "metadata": {},
   "outputs": [
    {
     "data": {
      "text/plain": [
       "array([0, 0, 0, 0, 0, 0, 0, 0, 0, 0])"
      ]
     },
     "execution_count": 40,
     "metadata": {},
     "output_type": "execute_result"
    }
   ],
   "source": [
    "#sıfırlardan oluşan bir dizi\n",
    "zeros=np.zeros(10).astype(int)\n",
    "zeros"
   ]
  },
  {
   "cell_type": "code",
   "execution_count": 41,
   "id": "2ae3d2b3",
   "metadata": {},
   "outputs": [
    {
     "data": {
      "text/plain": [
       "array([1., 1., 1., 1., 1., 1., 1., 1., 1., 1.])"
      ]
     },
     "execution_count": 41,
     "metadata": {},
     "output_type": "execute_result"
    }
   ],
   "source": [
    "ones=np.ones(10).astype(float)\n",
    "ones"
   ]
  },
  {
   "cell_type": "code",
   "execution_count": 42,
   "id": "bd5e442d",
   "metadata": {},
   "outputs": [
    {
     "data": {
      "text/plain": [
       "array([22, 22, 22, 22])"
      ]
     },
     "execution_count": 42,
     "metadata": {},
     "output_type": "execute_result"
    }
   ],
   "source": [
    "#repeat(sayı,kac tanee)\n",
    "rp=np.repeat(22,4)\n",
    "rp"
   ]
  },
  {
   "cell_type": "code",
   "execution_count": 43,
   "id": "3fa24945",
   "metadata": {},
   "outputs": [
    {
     "data": {
      "text/plain": [
       "array([1, 1, 3, 3, 6, 6, 8, 8])"
      ]
     },
     "execution_count": 43,
     "metadata": {},
     "output_type": "execute_result"
    }
   ],
   "source": [
    "d=np.array([1,3,6,8])\n",
    "rp1=np.repeat(d,2)\n",
    "rp1"
   ]
  },
  {
   "cell_type": "code",
   "execution_count": 45,
   "id": "112aafd0",
   "metadata": {},
   "outputs": [
    {
     "data": {
      "text/plain": [
       "[1, 3, 5, 7, 9, 11, 13, 15, 17, 19]"
      ]
     },
     "execution_count": 45,
     "metadata": {},
     "output_type": "execute_result"
    }
   ],
   "source": [
    "sayilar=list(range(1,21))\n",
    "tek_sayilar=[]\n",
    "for i in sayilar:\n",
    "    if i%2==1:\n",
    "        tek_sayilar.append(i)\n",
    "tek_sayilar        "
   ]
  },
  {
   "cell_type": "code",
   "execution_count": 51,
   "id": "f85e7f4a",
   "metadata": {},
   "outputs": [
    {
     "data": {
      "text/plain": [
       "array([ 1,  3,  5,  7,  9, 11, 13, 15, 17, 19])"
      ]
     },
     "execution_count": 51,
     "metadata": {},
     "output_type": "execute_result"
    }
   ],
   "source": [
    "np_sayilar=np.arange(1,20)\n",
    "tek_numpy=np_sayilar[np_sayilar %2==1]\n",
    "tek_numpy"
   ]
  },
  {
   "cell_type": "code",
   "execution_count": 52,
   "id": "708e142a",
   "metadata": {},
   "outputs": [
    {
     "data": {
      "text/plain": [
       "array([20., 25., 30.])"
      ]
     },
     "execution_count": 52,
     "metadata": {},
     "output_type": "execute_result"
    }
   ],
   "source": [
    "#linspace(başlangıç,bitis,adet)\n",
    "\n",
    "lns=np.linspace(20,30,3)\n",
    "lns"
   ]
  },
  {
   "cell_type": "code",
   "execution_count": 53,
   "id": "7e6271b2",
   "metadata": {},
   "outputs": [
    {
     "data": {
      "text/plain": [
       "array([127, 297])"
      ]
     },
     "execution_count": 53,
     "metadata": {},
     "output_type": "execute_result"
    }
   ],
   "source": [
    "np.random.randint(100,300,2)\n"
   ]
  },
  {
   "cell_type": "code",
   "execution_count": 59,
   "id": "c6762f54",
   "metadata": {},
   "outputs": [
    {
     "data": {
      "text/plain": [
       "array([355, 474, 271, 223, 412, 218, 393, 404, 331, 278])"
      ]
     },
     "execution_count": 59,
     "metadata": {},
     "output_type": "execute_result"
    }
   ],
   "source": [
    "np.random.seed(20)\n",
    "np.random.randint(0,500,10)"
   ]
  },
  {
   "cell_type": "code",
   "execution_count": 60,
   "id": "efa458cd",
   "metadata": {},
   "outputs": [
    {
     "data": {
      "text/plain": [
       "array([403, 151,  60, 460, 296, 425, 185, 263, 358,  86])"
      ]
     },
     "execution_count": 60,
     "metadata": {},
     "output_type": "execute_result"
    }
   ],
   "source": [
    "np.random.seed(202)\n",
    "np.random.randint(0,500,10)"
   ]
  },
  {
   "cell_type": "code",
   "execution_count": 61,
   "id": "28ea7813",
   "metadata": {},
   "outputs": [
    {
     "data": {
      "text/plain": [
       "array([229, 299, 148, 242, 247, 109, 130, 136, 225, 280, 187, 217, 120,\n",
       "       204, 190, 237, 307, 143, 152, 219, 167, 231, 277, 152, 300, 218,\n",
       "       110, 286, 224, 212, 237, 167, 238, 172])"
      ]
     },
     "execution_count": 61,
     "metadata": {},
     "output_type": "execute_result"
    }
   ],
   "source": [
    "a=np.random.randint(100,309,34)\n",
    "a"
   ]
  },
  {
   "cell_type": "code",
   "execution_count": 62,
   "id": "192aec23",
   "metadata": {},
   "outputs": [
    {
     "data": {
      "text/plain": [
       "307"
      ]
     },
     "execution_count": 62,
     "metadata": {},
     "output_type": "execute_result"
    }
   ],
   "source": [
    "a.max()"
   ]
  },
  {
   "cell_type": "code",
   "execution_count": 63,
   "id": "498c35a4",
   "metadata": {},
   "outputs": [
    {
     "data": {
      "text/plain": [
       "109"
      ]
     },
     "execution_count": 63,
     "metadata": {},
     "output_type": "execute_result"
    }
   ],
   "source": [
    "a.min()"
   ]
  },
  {
   "cell_type": "code",
   "execution_count": 64,
   "id": "a97556c1",
   "metadata": {},
   "outputs": [
    {
     "data": {
      "text/plain": [
       "array([229, 299, 148, 242, 247, 109, 130, 136, 225, 280, 187, 217, 120,\n",
       "       204, 190, 237, 307, 143, 152, 219, 167, 231, 277, 152, 300, 218,\n",
       "       110, 286, 224, 212, 237, 167, 238, 172])"
      ]
     },
     "execution_count": 64,
     "metadata": {},
     "output_type": "execute_result"
    }
   ],
   "source": [
    "a"
   ]
  },
  {
   "cell_type": "code",
   "execution_count": 65,
   "id": "3cd9c088",
   "metadata": {},
   "outputs": [
    {
     "data": {
      "text/plain": [
       "7012"
      ]
     },
     "execution_count": 65,
     "metadata": {},
     "output_type": "execute_result"
    }
   ],
   "source": [
    "a.sum()"
   ]
  },
  {
   "cell_type": "code",
   "execution_count": 67,
   "id": "aec40503",
   "metadata": {},
   "outputs": [
    {
     "data": {
      "text/plain": [
       "206.23529411764707"
      ]
     },
     "execution_count": 67,
     "metadata": {},
     "output_type": "execute_result"
    }
   ],
   "source": [
    "a.mean()"
   ]
  },
  {
   "cell_type": "code",
   "execution_count": 68,
   "id": "cc430fb8",
   "metadata": {},
   "outputs": [
    {
     "data": {
      "text/plain": [
       "56.23326356166648"
      ]
     },
     "execution_count": 68,
     "metadata": {},
     "output_type": "execute_result"
    }
   ],
   "source": [
    "a.std()"
   ]
  },
  {
   "cell_type": "code",
   "execution_count": 69,
   "id": "32cef5ec",
   "metadata": {},
   "outputs": [
    {
     "data": {
      "text/plain": [
       "array([[ 1, 11,  3],\n",
       "       [ 4, 15,  6],\n",
       "       [ 7,  9,  8]])"
      ]
     },
     "execution_count": 69,
     "metadata": {},
     "output_type": "execute_result"
    }
   ],
   "source": [
    "A = np.array([[1,11,3],[4,15,6],[7,9,8]])\n",
    "A\n"
   ]
  },
  {
   "cell_type": "code",
   "execution_count": 70,
   "id": "fbac70c6",
   "metadata": {},
   "outputs": [
    {
     "data": {
      "text/plain": [
       "64"
      ]
     },
     "execution_count": 70,
     "metadata": {},
     "output_type": "execute_result"
    }
   ],
   "source": [
    "A.sum()"
   ]
  },
  {
   "cell_type": "code",
   "execution_count": 71,
   "id": "985c9e6b",
   "metadata": {},
   "outputs": [
    {
     "data": {
      "text/plain": [
       "array([1, 9, 3])"
      ]
     },
     "execution_count": 71,
     "metadata": {},
     "output_type": "execute_result"
    }
   ],
   "source": [
    "np.amin(A,axis=0)"
   ]
  },
  {
   "cell_type": "code",
   "execution_count": 72,
   "id": "143ca98e",
   "metadata": {},
   "outputs": [
    {
     "data": {
      "text/plain": [
       "array([11, 15,  9])"
      ]
     },
     "execution_count": 72,
     "metadata": {},
     "output_type": "execute_result"
    }
   ],
   "source": [
    "np.amax(A,axis=1)"
   ]
  },
  {
   "cell_type": "code",
   "execution_count": 74,
   "id": "01ac86fd",
   "metadata": {},
   "outputs": [
    {
     "data": {
      "text/plain": [
       "array([28, 17, 22, 23, 23, 27, 29, 25, 17, 27, 23, 17, 22, 14])"
      ]
     },
     "execution_count": 74,
     "metadata": {},
     "output_type": "execute_result"
    }
   ],
   "source": [
    "b=np.random.randint(10,30,14)\n",
    "b"
   ]
  },
  {
   "cell_type": "code",
   "execution_count": 75,
   "id": "8f3f8b8c",
   "metadata": {},
   "outputs": [
    {
     "data": {
      "text/plain": [
       "array([22, 23])"
      ]
     },
     "execution_count": 75,
     "metadata": {},
     "output_type": "execute_result"
    }
   ],
   "source": [
    "b[2:4]"
   ]
  },
  {
   "cell_type": "code",
   "execution_count": 76,
   "id": "ead5df8e",
   "metadata": {},
   "outputs": [
    {
     "data": {
      "text/plain": [
       "array([27, 23, 17, 22])"
      ]
     },
     "execution_count": 76,
     "metadata": {},
     "output_type": "execute_result"
    }
   ],
   "source": [
    "b[-5:-1]"
   ]
  },
  {
   "cell_type": "code",
   "execution_count": 77,
   "id": "6b945143",
   "metadata": {},
   "outputs": [
    {
     "data": {
      "text/plain": [
       "array([27, 23, 17, 22, 14])"
      ]
     },
     "execution_count": 77,
     "metadata": {},
     "output_type": "execute_result"
    }
   ],
   "source": [
    "# son 5 veri\n",
    "b[-5:]"
   ]
  },
  {
   "cell_type": "code",
   "execution_count": 78,
   "id": "94fb1a61",
   "metadata": {},
   "outputs": [
    {
     "data": {
      "text/plain": [
       "array([28, 17, 22, 23, 23, 27, 29])"
      ]
     },
     "execution_count": 78,
     "metadata": {},
     "output_type": "execute_result"
    }
   ],
   "source": [
    "b[:7]"
   ]
  },
  {
   "cell_type": "code",
   "execution_count": 79,
   "id": "f71c20de",
   "metadata": {},
   "outputs": [
    {
     "data": {
      "text/plain": [
       "array([ 0,  1,  2,  3,  4,  5,  6,  7,  8,  9, 10, 11, 12, 13, 14, 15, 16,\n",
       "       17, 18, 19, 20])"
      ]
     },
     "execution_count": 79,
     "metadata": {},
     "output_type": "execute_result"
    }
   ],
   "source": [
    "d=np.arange(21)\n",
    "d"
   ]
  },
  {
   "cell_type": "code",
   "execution_count": 80,
   "id": "23e5e8f1",
   "metadata": {},
   "outputs": [
    {
     "data": {
      "text/plain": [
       "array([ 5,  1,  5,  3,  5,  5,  5,  7,  5,  9,  5, 11,  5, 13,  5, 15,  5,\n",
       "       17,  5, 19,  5])"
      ]
     },
     "execution_count": 80,
     "metadata": {},
     "output_type": "execute_result"
    }
   ],
   "source": [
    "# d dizisi içerisinde çift sayıların yerine 5 yazan kodu yazın\n",
    "r=np.where(d%2==0,5,d)\n",
    "r"
   ]
  },
  {
   "cell_type": "code",
   "execution_count": 81,
   "id": "e43c8b5c",
   "metadata": {},
   "outputs": [
    {
     "data": {
      "text/plain": [
       "array([10., 25., 36., nan, 69., 85., nan])"
      ]
     },
     "execution_count": 81,
     "metadata": {},
     "output_type": "execute_result"
    }
   ],
   "source": [
    "a = np.array([10,25,36,np.nan, 69,85,np.nan])\n",
    "a"
   ]
  },
  {
   "cell_type": "code",
   "execution_count": 84,
   "id": "3108efe1",
   "metadata": {},
   "outputs": [
    {
     "data": {
      "text/plain": [
       "array([False, False, False,  True, False, False,  True])"
      ]
     },
     "execution_count": 84,
     "metadata": {},
     "output_type": "execute_result"
    }
   ],
   "source": [
    "np.isnan(a)"
   ]
  },
  {
   "cell_type": "code",
   "execution_count": 87,
   "id": "65684f77",
   "metadata": {},
   "outputs": [],
   "source": [
    "a[np.isnan(a)]=100"
   ]
  },
  {
   "cell_type": "code",
   "execution_count": 88,
   "id": "4369ffd1",
   "metadata": {},
   "outputs": [
    {
     "data": {
      "text/plain": [
       "array([ 10.,  25.,  36., 100.,  69.,  85., 100.])"
      ]
     },
     "execution_count": 88,
     "metadata": {},
     "output_type": "execute_result"
    }
   ],
   "source": [
    "a"
   ]
  },
  {
   "cell_type": "code",
   "execution_count": 89,
   "id": "c081bc61",
   "metadata": {},
   "outputs": [],
   "source": [
    "c1 = np.arange(10,61,10)\n",
    "c2 = np.array([12,25,30,44,60,55,50])"
   ]
  },
  {
   "cell_type": "code",
   "execution_count": 90,
   "id": "5c758ce5",
   "metadata": {},
   "outputs": [
    {
     "data": {
      "text/plain": [
       "array([10, 20, 30, 40, 50, 60])"
      ]
     },
     "execution_count": 90,
     "metadata": {},
     "output_type": "execute_result"
    }
   ],
   "source": [
    "c1"
   ]
  },
  {
   "cell_type": "code",
   "execution_count": 91,
   "id": "8c1fc36b",
   "metadata": {},
   "outputs": [
    {
     "data": {
      "text/plain": [
       "array([12, 25, 30, 44, 60, 55, 50])"
      ]
     },
     "execution_count": 91,
     "metadata": {},
     "output_type": "execute_result"
    }
   ],
   "source": [
    "c2"
   ]
  },
  {
   "cell_type": "code",
   "execution_count": 93,
   "id": "e27e2dcd",
   "metadata": {},
   "outputs": [
    {
     "data": {
      "text/plain": [
       "array([10, 20, 40])"
      ]
     },
     "execution_count": 93,
     "metadata": {},
     "output_type": "execute_result"
    }
   ],
   "source": [
    "np.setdiff1d(c1,c2) #c1 de olup c2 de olmayan değerler"
   ]
  },
  {
   "cell_type": "code",
   "execution_count": 94,
   "id": "286f2ec8",
   "metadata": {},
   "outputs": [
    {
     "data": {
      "text/plain": [
       "array([12, 25, 44, 55])"
      ]
     },
     "execution_count": 94,
     "metadata": {},
     "output_type": "execute_result"
    }
   ],
   "source": [
    "np.setdiff1d(c2,c1)"
   ]
  },
  {
   "cell_type": "code",
   "execution_count": 95,
   "id": "ecb16248",
   "metadata": {},
   "outputs": [
    {
     "data": {
      "text/plain": [
       "array([12, 25, 30, 44, 60, 55, 50])"
      ]
     },
     "execution_count": 95,
     "metadata": {},
     "output_type": "execute_result"
    }
   ],
   "source": [
    "c2"
   ]
  },
  {
   "cell_type": "code",
   "execution_count": 97,
   "id": "d63433cb",
   "metadata": {},
   "outputs": [
    {
     "data": {
      "text/plain": [
       "array([50, 55, 60, 44, 30, 25, 12])"
      ]
     },
     "execution_count": 97,
     "metadata": {},
     "output_type": "execute_result"
    }
   ],
   "source": [
    "c2[::-1]   #verileri ters çevir"
   ]
  },
  {
   "cell_type": "code",
   "execution_count": 99,
   "id": "fbeff1a8",
   "metadata": {},
   "outputs": [
    {
     "data": {
      "text/plain": [
       "array([50, 55, 60, 44, 30, 25, 12])"
      ]
     },
     "execution_count": 99,
     "metadata": {},
     "output_type": "execute_result"
    }
   ],
   "source": [
    " np.flip(c2)     #verileri ters çevir"
   ]
  },
  {
   "cell_type": "code",
   "execution_count": 100,
   "id": "a9b69e35",
   "metadata": {},
   "outputs": [
    {
     "data": {
      "text/plain": [
       "array([[ 3,  4,  8,  7],\n",
       "       [11, 24, 10, 85],\n",
       "       [35,  5, 47,  2]])"
      ]
     },
     "execution_count": 100,
     "metadata": {},
     "output_type": "execute_result"
    }
   ],
   "source": [
    "a3 = np.array([[3,4,8,7],[11,24,10,85],[35,5,47,2]])\n",
    "a3"
   ]
  },
  {
   "cell_type": "code",
   "execution_count": 101,
   "id": "a46976a3",
   "metadata": {},
   "outputs": [
    {
     "data": {
      "text/plain": [
       "array([[35,  5, 47,  2],\n",
       "       [11, 24, 10, 85],\n",
       "       [ 3,  4,  8,  7]])"
      ]
     },
     "execution_count": 101,
     "metadata": {},
     "output_type": "execute_result"
    }
   ],
   "source": [
    "a3[::-1]"
   ]
  },
  {
   "cell_type": "code",
   "execution_count": 104,
   "id": "5af9a8df",
   "metadata": {},
   "outputs": [
    {
     "data": {
      "text/plain": [
       "array([[  0,   1,   2,   3,   4,   5,   6,   7,   8,   9,  10],\n",
       "       [ 11,  12,  13,  14,  15,  16,  17,  18,  19,  20,  21],\n",
       "       [ 22,  23,  24,  25,  26,  27,  28,  29,  30,  31,  32],\n",
       "       [ 33,  34,  35,  36,  37,  38,  39,  40,  41,  42,  43],\n",
       "       [ 44,  45,  46,  47,  48,  49,  50,  51,  52,  53,  54],\n",
       "       [ 55,  56,  57,  58,  59,  60,  61,  62,  63,  64,  65],\n",
       "       [ 66,  67,  68,  69,  70,  71,  72,  73,  74,  75,  76],\n",
       "       [ 77,  78,  79,  80,  81,  82,  83,  84,  85,  86,  87],\n",
       "       [ 88,  89,  90,  91,  92,  93,  94,  95,  96,  97,  98],\n",
       "       [ 99, 100, 101, 102, 103, 104, 105, 106, 107, 108, 109],\n",
       "       [110, 111, 112, 113, 114, 115, 116, 117, 118, 119, 120]])"
      ]
     },
     "execution_count": 104,
     "metadata": {},
     "output_type": "execute_result"
    }
   ],
   "source": [
    "#reshape()\n",
    "p1=np.arange(0,121).reshape(11,11)\n",
    "p1\n"
   ]
  },
  {
   "cell_type": "code",
   "execution_count": 105,
   "id": "6e5c218f",
   "metadata": {},
   "outputs": [
    {
     "data": {
      "text/plain": [
       "array([10, 24, 42])"
      ]
     },
     "execution_count": 105,
     "metadata": {},
     "output_type": "execute_result"
    }
   ],
   "source": [
    "a1=[5,6,7]\n",
    "a2=[2,4,6]\n",
    "a3=np.multiply(a1,a2)\n",
    "a3\n"
   ]
  },
  {
   "cell_type": "code",
   "execution_count": 107,
   "id": "26d2070d",
   "metadata": {},
   "outputs": [
    {
     "data": {
      "text/plain": [
       "array([20, 12, 21])"
      ]
     },
     "execution_count": 107,
     "metadata": {},
     "output_type": "execute_result"
    }
   ],
   "source": [
    "a4 = np.array([5,6,7])\n",
    "a5 = np.array([4,2,3])\n",
    "\n",
    "a4*a5"
   ]
  },
  {
   "cell_type": "code",
   "execution_count": 109,
   "id": "4f45ce40",
   "metadata": {},
   "outputs": [
    {
     "data": {
      "text/plain": [
       "array([[593,  90, 806, 389, 696, 182, 931, 419,  12, 354],\n",
       "       [241, 449, 658, 824, 913, 593, 105,  14, 559, 335],\n",
       "       [345,  33, 860, 481, 976,  98, 681, 217,  99, 953],\n",
       "       [804, 191, 400, 195, 610, 780, 148, 805, 565, 205],\n",
       "       [557, 806, 787, 199, 697, 953, 462, 729,  94, 134],\n",
       "       [ 75, 427, 280, 580, 266, 235, 989, 367, 302, 486],\n",
       "       [982, 866, 442, 623, 151, 868, 241, 440, 957, 980],\n",
       "       [480, 641, 786, 539, 636, 851, 916, 621, 345, 257],\n",
       "       [ 37, 130, 888, 423, 310, 882, 717, 106, 771, 516],\n",
       "       [ 84, 163,  92, 766, 994,  95, 460, 905, 304, 626]])"
      ]
     },
     "execution_count": 109,
     "metadata": {},
     "output_type": "execute_result"
    }
   ],
   "source": [
    "M=np.random.randint(0,1000,100).reshape(10,10)\n",
    "M"
   ]
  },
  {
   "cell_type": "code",
   "execution_count": 110,
   "id": "6706e73a",
   "metadata": {},
   "outputs": [
    {
     "data": {
      "text/plain": [
       "array([ 90, 389, 182, 419,  12, 354, 241, 449, 105,  14, 335, 345,  33,\n",
       "       481,  98, 217,  99, 191, 400, 195, 148, 205, 199, 462,  94, 134,\n",
       "        75, 427, 280, 266, 235, 367, 302, 486, 442, 151, 241, 440, 480,\n",
       "       345, 257,  37, 130, 423, 310, 106,  84, 163,  92,  95, 460, 304])"
      ]
     },
     "execution_count": 110,
     "metadata": {},
     "output_type": "execute_result"
    }
   ],
   "source": [
    "filtered=M[M<500]\n",
    "filtered"
   ]
  },
  {
   "cell_type": "code",
   "execution_count": 112,
   "id": "67b2b19a",
   "metadata": {},
   "outputs": [
    {
     "data": {
      "text/plain": [
       "array([[1, 0, 0, 0],\n",
       "       [0, 1, 0, 0],\n",
       "       [0, 0, 1, 0],\n",
       "       [0, 0, 0, 1]])"
      ]
     },
     "execution_count": 112,
     "metadata": {},
     "output_type": "execute_result"
    }
   ],
   "source": [
    "#birim matris(identity)\n",
    "a=np.eye(4).astype(int)\n",
    "a"
   ]
  },
  {
   "cell_type": "code",
   "execution_count": 115,
   "id": "53ac838d",
   "metadata": {},
   "outputs": [
    {
     "data": {
      "text/plain": [
       "array([[1, 0, 0, 0, 0, 0],\n",
       "       [0, 2, 0, 0, 0, 0],\n",
       "       [0, 0, 3, 0, 0, 0],\n",
       "       [0, 0, 0, 4, 0, 0],\n",
       "       [0, 0, 0, 0, 5, 0],\n",
       "       [0, 0, 0, 0, 0, 6]])"
      ]
     },
     "execution_count": 115,
     "metadata": {},
     "output_type": "execute_result"
    }
   ],
   "source": [
    "#diagonal matris\n",
    "d=np.diag(np.arange(1,7))\n",
    "d"
   ]
  },
  {
   "cell_type": "code",
   "execution_count": 116,
   "id": "1f554d9b",
   "metadata": {},
   "outputs": [
    {
     "data": {
      "text/plain": [
       "array([[2, 0, 0, 0],\n",
       "       [0, 4, 0, 0],\n",
       "       [0, 0, 6, 0],\n",
       "       [0, 0, 0, 8]])"
      ]
     },
     "execution_count": 116,
     "metadata": {},
     "output_type": "execute_result"
    }
   ],
   "source": [
    "d=np.diag([2,4,6,8])\n",
    "d"
   ]
  },
  {
   "cell_type": "code",
   "execution_count": 119,
   "id": "9b7aed63",
   "metadata": {},
   "outputs": [
    {
     "data": {
      "text/plain": [
       "array([[-0.62472361, -1.47201886, -0.58781023, -0.89775407],\n",
       "       [-0.44905533, -0.63138179,  0.19885658,  0.31121558],\n",
       "       [-0.54998607, -0.25524031,  1.4905993 ,  0.46936518]])"
      ]
     },
     "execution_count": 119,
     "metadata": {},
     "output_type": "execute_result"
    }
   ],
   "source": [
    "M1=np.random.randn(3,4)\n",
    "M1"
   ]
  },
  {
   "cell_type": "code",
   "execution_count": 120,
   "id": "653d37bd",
   "metadata": {},
   "outputs": [
    {
     "data": {
      "text/plain": [
       "array([[-0.62472361, -1.47201886, -0.58781023, -0.89775407],\n",
       "       [ 0.        , -0.63138179,  0.19885658,  0.31121558],\n",
       "       [ 0.        ,  0.        ,  1.4905993 ,  0.46936518]])"
      ]
     },
     "execution_count": 120,
     "metadata": {},
     "output_type": "execute_result"
    }
   ],
   "source": [
    "U = np.triu(M1)\n",
    "U"
   ]
  },
  {
   "cell_type": "code",
   "execution_count": 121,
   "id": "6dfc5881",
   "metadata": {},
   "outputs": [
    {
     "data": {
      "text/plain": [
       "array([[-0.62472361,  0.        ,  0.        ,  0.        ],\n",
       "       [-0.44905533, -0.63138179,  0.        ,  0.        ],\n",
       "       [-0.54998607, -0.25524031,  1.4905993 ,  0.        ]])"
      ]
     },
     "execution_count": 121,
     "metadata": {},
     "output_type": "execute_result"
    }
   ],
   "source": [
    "\n",
    "L = np.tril(M1)\n",
    "L"
   ]
  },
  {
   "cell_type": "code",
   "execution_count": 123,
   "id": "b3eeb5ab",
   "metadata": {},
   "outputs": [
    {
     "data": {
      "text/plain": [
       "array([[37, 37, 18, 30],\n",
       "       [19, 29, 31, 32],\n",
       "       [13, 20, 23, 33],\n",
       "       [17, 43, 37, 12]])"
      ]
     },
     "execution_count": 123,
     "metadata": {},
     "output_type": "execute_result"
    }
   ],
   "source": [
    "m2=np.random.randint(10,45,16).reshape(4,4)\n",
    "m2"
   ]
  },
  {
   "cell_type": "code",
   "execution_count": 124,
   "id": "ff2c3fc2",
   "metadata": {},
   "outputs": [
    {
     "data": {
      "text/plain": [
       "array([[37, 19, 13, 17],\n",
       "       [37, 29, 20, 43],\n",
       "       [18, 31, 23, 37],\n",
       "       [30, 32, 33, 12]])"
      ]
     },
     "execution_count": 124,
     "metadata": {},
     "output_type": "execute_result"
    }
   ],
   "source": [
    "np.transpose(m2)"
   ]
  },
  {
   "cell_type": "code",
   "execution_count": 126,
   "id": "ea341141",
   "metadata": {},
   "outputs": [
    {
     "data": {
      "text/plain": [
       "87648.00000000003"
      ]
     },
     "execution_count": 126,
     "metadata": {},
     "output_type": "execute_result"
    }
   ],
   "source": [
    "\n",
    "np.linalg.det(m2)"
   ]
  },
  {
   "cell_type": "code",
   "execution_count": 128,
   "id": "3b2d3dd0",
   "metadata": {},
   "outputs": [
    {
     "name": "stdout",
     "output_type": "stream",
     "text": [
      "Günlük getiri (%) [ 2.          7.84313725 -5.         10.04784689  4.34782609 -8.33333333]\n",
      "Ortalama günlük getirisi : 1.8175794830795506 %\n"
     ]
    }
   ],
   "source": [
    "# Hisse senedi uyulaması \n",
    "# Getiri = ((Bugünkü fiyat - dünkü fiyat) / Dünkü fiyat)*100\n",
    "prices = np.array([1000,1020,1100,1045,1150,1200,1100])\n",
    "getiriler_farki=np.diff(prices)\n",
    "result=getiriler_farki/prices[:-1]*100\n",
    "print(f'Günlük getiri (%) {result}')\n",
    "print(f'Ortalama günlük getirisi : {np.mean(result)} %')"
   ]
  },
  {
   "cell_type": "code",
   "execution_count": 129,
   "id": "5d87e305",
   "metadata": {},
   "outputs": [
    {
     "name": "stdout",
     "output_type": "stream",
     "text": [
      "10 yıllık nüfus tahmini :\n"
     ]
    },
    {
     "data": {
      "text/plain": [
       "array([10202013.40026756, 10408107.74192388, 10618365.4654536 ,\n",
       "       10832870.67674959, 11051709.18075648, 11274968.51579376,\n",
       "       11502737.98857227, 11735108.7099181 , 11972173.6312181 ,\n",
       "       12214027.5816017 ])"
      ]
     },
     "execution_count": 129,
     "metadata": {},
     "output_type": "execute_result"
    }
   ],
   "source": [
    "# Başlangıç nüfusu 10m olan ülkenin yıllık büyüme oranı %2 dir 10 yıllık nüfus tahminini yapınız.\n",
    "# P(t) = P0* e^rt\n",
    "baslangic_nufusu = 10000000\n",
    "buyume_orani = 0.02\n",
    "yillar = np.arange(1,11)\n",
    "populasyon = baslangic_nufusu * np.exp(buyume_orani * yillar)\n",
    "print(f'10 yıllık nüfus tahmini :')\n",
    "populasyon"
   ]
  }
 ],
 "metadata": {
  "kernelspec": {
   "display_name": "Python 3 (ipykernel)",
   "language": "python",
   "name": "python3"
  },
  "language_info": {
   "codemirror_mode": {
    "name": "ipython",
    "version": 3
   },
   "file_extension": ".py",
   "mimetype": "text/x-python",
   "name": "python",
   "nbconvert_exporter": "python",
   "pygments_lexer": "ipython3",
   "version": "3.11.5"
  }
 },
 "nbformat": 4,
 "nbformat_minor": 5
}
