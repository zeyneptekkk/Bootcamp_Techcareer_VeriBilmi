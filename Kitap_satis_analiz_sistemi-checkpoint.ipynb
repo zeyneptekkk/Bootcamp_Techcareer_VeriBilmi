{
 "cells": [
  {
   "cell_type": "markdown",
   "id": "3628eb74",
   "metadata": {},
   "source": [
    "# Proje – “Kitap Satış Analiz Sistemi” "
   ]
  },
  {
   "cell_type": "markdown",
   "id": "2f450502",
   "metadata": {},
   "source": [
    "Bir yayınevinin farklı türlerde ve yazarlarda kitapları var. Örnek veri: \n"
   ]
  },
  {
   "cell_type": "markdown",
   "id": "9a97ce60",
   "metadata": {},
   "source": [
    "# 1. Fonksiyon Yazma:"
   ]
  },
  {
   "cell_type": "markdown",
   "id": "c00fe639",
   "metadata": {},
   "source": [
    " en_cok_satan(kitaplar) → En çok satan kitabın bilgilerini döndürsün. \n",
    "o yazar_satislari(kitaplar) → Her yazarın toplam satışını bir sözlük olarak \n",
    "döndürsün. "
   ]
  },
  {
   "cell_type": "code",
   "execution_count": 15,
   "id": "571877cc",
   "metadata": {},
   "outputs": [],
   "source": [
    "kitaplar = [ \n",
    "{\"isim\": \"Veri Bilimi 101\", \"yazar\": \"Ali\", \"tur\": \"Bilim\", \"satis\": 1200, \"yil\": 2021}, \n",
    "{\"isim\": \"Python ile Yapay Zeka\", \"yazar\": \"Ayşe\", \"tur\": \"Bilim\", \"satis\": 950, \"yil\": \n",
    "2020}, \n",
    "{\"isim\": \"İstatistik Temelleri\", \"yazar\": \"Ali\", \"tur\": \"Akademik\", \"satis\": 700, \"yil\": 2019}, \n",
    "{\"isim\": \"Makine Öğrenmesi\", \"yazar\": \"Can\", \"tur\": \"Bilim\", \"satis\": 1800, \"yil\": 2022}, \n",
    "{\"isim\": \"Veri Görselleştirme\", \"yazar\": \"Deniz\", \"tur\": \"Sanat\", \"satis\": 400, \"yil\": 2018}, \n",
    "{\"isim\": \"Matematiksel Modelleme\", \"yazar\": \"Ali\", \"tur\": \"Akademik\", \"satis\": 1500, \n",
    "\"yil\": 2021}, \n",
    "{\"isim\": \"Bilgi Toplumu\", \"yazar\": \"Ayşe\", \"tur\": \"Sosyal\", \"satis\": 600, \"yil\": 2022} \n",
    "] \n",
    "\n"
   ]
  },
  {
   "cell_type": "code",
   "execution_count": 37,
   "id": "c1b8338d",
   "metadata": {},
   "outputs": [
    {
     "name": "stdout",
     "output_type": "stream",
     "text": [
      "İsim:  Makine Öğrenmesi\n",
      "Yazar:  Can\n",
      "Tür:  Bilim\n",
      "Yıl:  2022\n"
     ]
    }
   ],
   "source": [
    "import numpy as np\n",
    "\n",
    "en_cok_satan=max(kitaplar,key=lambda x:x['satis'])\n",
    "print(\"İsim: \",en_cok_satan['isim'])\n",
    "print(\"Yazar: \",en_cok_satan['yazar'])\n",
    "print(\"Tür: \",en_cok_satan['tur'])\n",
    "print(\"Yıl: \",en_cok_satan['yil'])\n"
   ]
  },
  {
   "cell_type": "code",
   "execution_count": 17,
   "id": "50f679f3",
   "metadata": {},
   "outputs": [
    {
     "name": "stdout",
     "output_type": "stream",
     "text": [
      "{'Ali': 3400, 'Ayşe': 1550, 'Can': 1800, 'Deniz': 400}\n"
     ]
    }
   ],
   "source": [
    "yazar_satislari={}\n",
    "\n",
    "for kitap in kitaplar:\n",
    "    yazar=kitap[\"yazar\"]\n",
    "    satis=kitap[\"satis\"]\n",
    "    \n",
    "    if yazar in yazar_satislari:\n",
    "        yazar_satislari[yazar] += satis\n",
    "    else:\n",
    "        yazar_satislari[yazar] =satis\n",
    "        \n",
    "print(yazar_satislari)        "
   ]
  },
  {
   "cell_type": "markdown",
   "id": "7772617a",
   "metadata": {},
   "source": [
    "# 2. Liste ve Küme İşlemleri: "
   ]
  },
  {
   "cell_type": "markdown",
   "id": "408c6742",
   "metadata": {},
   "source": [
    " Tüm kitap türlerini (tur) küme halinde çıkarın (tekrar eden türler olmadan). \n",
    " Satış adedi 1000’den fazla olan kitapların isimlerini bir listede toplayın. "
   ]
  },
  {
   "cell_type": "code",
   "execution_count": 18,
   "id": "17d14552",
   "metadata": {},
   "outputs": [
    {
     "data": {
      "text/plain": [
       "{'Akademik', 'Bilim', 'Sanat', 'Sosyal'}"
      ]
     },
     "execution_count": 18,
     "metadata": {},
     "output_type": "execute_result"
    }
   ],
   "source": [
    "tum_turler=set(kitap['tur'] for kitap in kitaplar)\n",
    "tum_turler"
   ]
  },
  {
   "cell_type": "code",
   "execution_count": 20,
   "id": "f7492d65",
   "metadata": {},
   "outputs": [
    {
     "name": "stdout",
     "output_type": "stream",
     "text": [
      "['Veri Bilimi 101', 'Makine Öğrenmesi', 'Matematiksel Modelleme']\n"
     ]
    }
   ],
   "source": [
    "liste=[]\n",
    "for i in kitaplar:\n",
    "    if i['satis']>1000:\n",
    "        liste.append(i['isim'])\n",
    "        \n",
    "print(liste)        "
   ]
  },
  {
   "cell_type": "markdown",
   "id": "df6e4ead",
   "metadata": {},
   "source": [
    "# 3. Lambda / Filter / Map Kullanımı: "
   ]
  },
  {
   "cell_type": "markdown",
   "id": "35fb48bb",
   "metadata": {},
   "source": [
    "o filter ile 2020’den sonra çıkan kitapları süzün. \n",
    "o map ile tüm satış adetlerini %10 artırılmış şekilde yeni bir listeye aktarın. \n",
    "o sorted + lambda ile kitapları satış miktarına göre azalan şekilde sıralayın."
   ]
  },
  {
   "cell_type": "code",
   "execution_count": 22,
   "id": "14c97e90",
   "metadata": {},
   "outputs": [
    {
     "data": {
      "text/plain": [
       "[{'isim': 'Veri Bilimi 101',\n",
       "  'yazar': 'Ali',\n",
       "  'tur': 'Bilim',\n",
       "  'satis': 1200,\n",
       "  'yil': 2021},\n",
       " {'isim': 'Makine Öğrenmesi',\n",
       "  'yazar': 'Can',\n",
       "  'tur': 'Bilim',\n",
       "  'satis': 1800,\n",
       "  'yil': 2022},\n",
       " {'isim': 'Matematiksel Modelleme',\n",
       "  'yazar': 'Ali',\n",
       "  'tur': 'Akademik',\n",
       "  'satis': 1500,\n",
       "  'yil': 2021},\n",
       " {'isim': 'Bilgi Toplumu',\n",
       "  'yazar': 'Ayşe',\n",
       "  'tur': 'Sosyal',\n",
       "  'satis': 600,\n",
       "  'yil': 2022}]"
      ]
     },
     "execution_count": 22,
     "metadata": {},
     "output_type": "execute_result"
    }
   ],
   "source": [
    "sonuc=list(filter(lambda k: k['yil']>2020 ,kitaplar))\n",
    "sonuc"
   ]
  },
  {
   "cell_type": "code",
   "execution_count": 30,
   "id": "12365a47",
   "metadata": {},
   "outputs": [
    {
     "data": {
      "text/plain": [
       "[1320.0,\n",
       " 1045.0,\n",
       " 770.0000000000001,\n",
       " 1980.0000000000002,\n",
       " 440.00000000000006,\n",
       " 1650.0000000000002,\n",
       " 660.0]"
      ]
     },
     "execution_count": 30,
     "metadata": {},
     "output_type": "execute_result"
    }
   ],
   "source": [
    "yeni_satis=list(map(lambda x:x['satis']*1.1,kitaplar))\n",
    "yeni_satis"
   ]
  },
  {
   "cell_type": "code",
   "execution_count": 35,
   "id": "6de63f32",
   "metadata": {},
   "outputs": [
    {
     "name": "stdout",
     "output_type": "stream",
     "text": [
      "Veri Görselleştirme 400\n",
      "Bilgi Toplumu 600\n",
      "İstatistik Temelleri 700\n",
      "Python ile Yapay Zeka 950\n",
      "Veri Bilimi 101 1200\n",
      "Matematiksel Modelleme 1500\n",
      "Makine Öğrenmesi 1800\n"
     ]
    }
   ],
   "source": [
    "siralama=sorted(kitaplar,key=lambda k:k['satis'])\n",
    "for k in siralama:\n",
    "    print(k['isim'],k['satis'])"
   ]
  },
  {
   "cell_type": "markdown",
   "id": "16c1d3a7",
   "metadata": {},
   "source": [
    "# 4. İstatistiksel Analiz: "
   ]
  },
  {
   "cell_type": "markdown",
   "id": "2605aa61",
   "metadata": {},
   "source": [
    " Ortalama satış adedini bulun. \n",
    " En çok satış yapan türü bulun. \n",
    " Satışların standart sapmasını hesaplamak için statistics modülünü kullanın."
   ]
  },
  {
   "cell_type": "code",
   "execution_count": 43,
   "id": "6ea0cbcd",
   "metadata": {},
   "outputs": [
    {
     "data": {
      "text/plain": [
       "1021.4285714285714"
      ]
     },
     "execution_count": 43,
     "metadata": {},
     "output_type": "execute_result"
    }
   ],
   "source": [
    "satislar=np.array([k['satis'] for k in kitaplar])\n",
    "ortalama_satis=np.mean(satislar)\n",
    "ortalama_satis"
   ]
  },
  {
   "cell_type": "code",
   "execution_count": 45,
   "id": "f17d7ecc",
   "metadata": {},
   "outputs": [
    {
     "name": "stdout",
     "output_type": "stream",
     "text": [
      "506.5053001179939\n"
     ]
    }
   ],
   "source": [
    "import statistics\n",
    "satislar=([k['satis'] for k in kitaplar])\n",
    "std_sapma= statistics.stdev(satislar)\n",
    "print(std_sapma)"
   ]
  },
  {
   "cell_type": "markdown",
   "id": "2f4f808b",
   "metadata": {},
   "source": [
    "# 5. Ekstra (Zorlayıcı): Train/Test Simülasyonu "
   ]
  },
  {
   "cell_type": "markdown",
   "id": "dcbaa2c9",
   "metadata": {},
   "source": [
    "Kitap listesini rastgele %70 eğitim (train), %30 test verisine ayırın \n",
    "(random.sample). \n",
    " Eğitim verisinden yazarların ortalama satışını hesaplayın. \n",
    "Test verisinde, hangi kitapların satışlarının bu ortalamanın üzerinde olduğunu \n",
    "kontrol edin."
   ]
  },
  {
   "cell_type": "code",
   "execution_count": 46,
   "id": "605ba2f7",
   "metadata": {},
   "outputs": [
    {
     "name": "stdout",
     "output_type": "stream",
     "text": [
      "\n",
      "Yazarların Ortalama Satışları: {'Deniz': 400.0, 'Ali': 1133.3333333333333}\n"
     ]
    }
   ],
   "source": [
    "import random\n",
    "from collections import defaultdict\n",
    "\n",
    "random.shuffle(kitaplar)\n",
    "train_size=int(0.7*len(kitaplar))\n",
    "train=kitaplar[:train_size]\n",
    "test=kitaplar[train_size:]\n",
    "\n",
    "yazar_satis = defaultdict(list)\n",
    "for k in train:\n",
    "    yazar_satis[k['yazar']].append(k['satis'])\n",
    "    \n",
    "yazar_ortalama = {yazar: np.mean(satislar) for yazar, satislar in yazar_satis.items()}\n",
    "print(\"\\nYazarların Ortalama Satışları:\", yazar_ortalama)   \n"
   ]
  },
  {
   "cell_type": "code",
   "execution_count": 47,
   "id": "a85f2421",
   "metadata": {},
   "outputs": [
    {
     "name": "stdout",
     "output_type": "stream",
     "text": [
      "\n",
      "Testte ortalamanın üzerindeki kitaplar:\n",
      "Bilgi Toplumu (Ayşe) - Satış: 600 > Ortalama: 0\n",
      "Makine Öğrenmesi (Can) - Satış: 1800 > Ortalama: 0\n",
      "Python ile Yapay Zeka (Ayşe) - Satış: 950 > Ortalama: 0\n"
     ]
    }
   ],
   "source": [
    "print(\"\\nTestte ortalamanın üzerindeki kitaplar:\")\n",
    "for k in test:\n",
    "    ortalama = yazar_ortalama.get(k['yazar'], 0)  # yazar eğitimde yoksa 0 al\n",
    "    if k['satis'] > ortalama:\n",
    "        print(f\"{k['isim']} ({k['yazar']}) - Satış: {k['satis']} > Ortalama: {ortalama}\")"
   ]
  },
  {
   "cell_type": "code",
   "execution_count": null,
   "id": "aead81e0",
   "metadata": {},
   "outputs": [],
   "source": []
  },
  {
   "cell_type": "code",
   "execution_count": null,
   "id": "745cf136",
   "metadata": {},
   "outputs": [],
   "source": []
  },
  {
   "cell_type": "code",
   "execution_count": null,
   "id": "e3dbe581",
   "metadata": {},
   "outputs": [],
   "source": []
  }
 ],
 "metadata": {
  "kernelspec": {
   "display_name": "Python 3 (ipykernel)",
   "language": "python",
   "name": "python3"
  },
  "language_info": {
   "codemirror_mode": {
    "name": "ipython",
    "version": 3
   },
   "file_extension": ".py",
   "mimetype": "text/x-python",
   "name": "python",
   "nbconvert_exporter": "python",
   "pygments_lexer": "ipython3",
   "version": "3.11.5"
  }
 },
 "nbformat": 4,
 "nbformat_minor": 5
}
