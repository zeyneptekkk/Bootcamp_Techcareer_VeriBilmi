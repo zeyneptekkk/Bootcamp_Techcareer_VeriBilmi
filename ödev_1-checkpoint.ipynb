{
 "cells": [
  {
   "cell_type": "markdown",
   "id": "40f1e503",
   "metadata": {},
   "source": [
    "# Bölüm 1: Veri Tipleri"
   ]
  },
  {
   "cell_type": "markdown",
   "id": "6225ca90",
   "metadata": {},
   "source": [
    "1. Kullanıcıdan adını, yaşını ve boyunu (float) input() ile alınız. Bu bilgileri uygun veri tiplerinde değişkenlerde saklayınız ve ekrana anlamlı bir şekilde yazdırınız."
   ]
  },
  {
   "cell_type": "code",
   "execution_count": 3,
   "id": "62af556d",
   "metadata": {},
   "outputs": [
    {
     "name": "stdout",
     "output_type": "stream",
     "text": [
      "Lütfen isminizi giriniz:zeynep\n",
      "Lütfen yaşınızı giriniz:21\n",
      "Lütfen boyunuzu girin:171\n",
      "Kulanıcı adı: zeynep\n",
      "Kulanıcı Boyu: 171\n",
      "Kulanıcı yaşı: 21\n"
     ]
    }
   ],
   "source": [
    "isim=input(\"Lütfen isminizi giriniz:\")\n",
    "yas=input(\"Lütfen yaşınızı giriniz:\")\n",
    "boy=input(\"Lütfen boyunuzu girin:\")\n",
    "print(\"Kulanıcı adı: \" +isim)\n",
    "print(\"Kulanıcı Boyu: \" +boy)\n",
    "print(\"Kulanıcı yaşı: \" +yas)\n"
   ]
  },
  {
   "cell_type": "markdown",
   "id": "86dde327",
   "metadata": {},
   "source": [
    " 2. Bir öğrencinin notlarını (Matematik, Fizik, Kimya) int tipinde değişkenlere atayın. Ortalamasını float tipinde hesaplayıp ekrana yazdırınız"
   ]
  },
  {
   "cell_type": "code",
   "execution_count": 13,
   "id": "02c5a93c",
   "metadata": {},
   "outputs": [
    {
     "name": "stdout",
     "output_type": "stream",
     "text": [
      "Mat:55\n",
      "Kimya:44\n",
      "Fizik:8\n",
      "Ortalama:  35.666666666666664\n"
     ]
    }
   ],
   "source": [
    "mat=float(input(\"Mat:\"))\n",
    "kimya=float(input(\"Kimya:\"))\n",
    "fiz=float(input(\"Fizik:\"))\n",
    "ortalama=(mat+kimya+fiz)/3\n",
    "print(\"Ortalama: \", ortalama)"
   ]
  },
  {
   "cell_type": "markdown",
   "id": "d6a459df",
   "metadata": {},
   "source": [
    "3. Bir string değişkeni tanımlayın. Bu stringin ilk ve son karakterini, uzunluğunu ve ters çevrilmiş halini ekrana yazdırınız."
   ]
  },
  {
   "cell_type": "code",
   "execution_count": 15,
   "id": "f15448d4",
   "metadata": {},
   "outputs": [
    {
     "name": "stdout",
     "output_type": "stream",
     "text": [
      "ilk karakter: B  son karakter:  k  uzunluk:  ters hali:  keT penyeZ mıda mineB\n"
     ]
    }
   ],
   "source": [
    "a=\"Benim adım Zeynep Tek\"\n",
    "ilk_karakter=a[0]\n",
    "son_karakter=a[-1]\n",
    "uzunluk=len(a)\n",
    "ters=a[::-1]\n",
    "print(\"ilk karakter:\",ilk_karakter, \" son karakter: \",son_karakter ,\" uzunluk: \",\"ters hali: \",ters)"
   ]
  },
  {
   "cell_type": "markdown",
   "id": "18c640f4",
   "metadata": {},
   "source": [
    "# Bölüm 2: Operatörler"
   ]
  },
  {
   "cell_type": "markdown",
   "id": "d8b36132",
   "metadata": {},
   "source": [
    "4. Kullanıcıdan iki sayı alınız. Bu sayılar üzerinde toplama, çıkarma, çarpma, bölme ve mod işlemleri yapınız."
   ]
  },
  {
   "cell_type": "code",
   "execution_count": 19,
   "id": "61f18056",
   "metadata": {},
   "outputs": [
    {
     "name": "stdout",
     "output_type": "stream",
     "text": [
      "Sayı 1:44\n",
      "Sayı 2:75\n",
      "Toplam :  119.0\n",
      "Çıkarma:  -31.0\n",
      "Çarpma :  3300.0\n",
      "Bölme  :  0.5866666666666667\n",
      "Mod    :  44.0\n"
     ]
    }
   ],
   "source": [
    "a=float(input(\"Sayı 1:\"))\n",
    "b=float(input(\"Sayı 2:\"))\n",
    "toplam=a+b\n",
    "cikarma=a-b\n",
    "carpma=a*b\n",
    "bolme=a/b\n",
    "mod=a%b\n",
    "print(\"Toplam : \",toplam)\n",
    "print(\"Çıkarma: \",cikarma)\n",
    "print(\"Çarpma : \",carpma)\n",
    "print(\"Bölme  : \",bolme)\n",
    "print(\"Mod    : \",mod)"
   ]
  },
  {
   "cell_type": "markdown",
   "id": "beaa0350",
   "metadata": {},
   "source": [
    "5. Bir öğrencinin ortalaması 50’den büyükse 'Geçti', değilse 'Kaldı' çıktısını veren bir program yazınız. (Karşılaştırma ve mantıksal operatörler kullanılacak.)"
   ]
  },
  {
   "cell_type": "code",
   "execution_count": 20,
   "id": "57aa7938",
   "metadata": {},
   "outputs": [
    {
     "name": "stdout",
     "output_type": "stream",
     "text": [
      "Vize notunu gir :40\n",
      "Final notunu gir:5\n",
      "Kaldınız:(\n"
     ]
    }
   ],
   "source": [
    "vize=float(input(\"Vize notunu gir :\"))\n",
    "final=float(input(\"Final notunu gir:\"))\n",
    "ortalama=vize*0.4+final*0.6\n",
    "if (ortalama<50):\n",
    "    print(\"Kaldınız:(\")\n",
    "else:\n",
    "    print(\"Geçtiniz:)\")"
   ]
  },
  {
   "cell_type": "markdown",
   "id": "a58e63cb",
   "metadata": {},
   "source": [
    "6. Kullanıcıdan yaşını alınız. Eğer yaş 18’den büyükse 'Ehliyet alabilirsiniz', değilse 'Ehliyet alamazsınız' çıktısı veriniz."
   ]
  },
  {
   "cell_type": "code",
   "execution_count": 21,
   "id": "dc831702",
   "metadata": {},
   "outputs": [
    {
     "name": "stdout",
     "output_type": "stream",
     "text": [
      "Yaşınızı giriniz:18\n",
      "Ehliyet alabilirsiniz\n"
     ]
    }
   ],
   "source": [
    "a=int(input(\"Yaşınızı giriniz:\"))\n",
    "if(a<18):\n",
    "    print(\"Ehliyet alamazsınız\")\n",
    "else:\n",
    "    print(\"Ehliyet alabilirsiniz\")"
   ]
  },
  {
   "cell_type": "markdown",
   "id": "38ce5249",
   "metadata": {},
   "source": [
    "7. Bir ürünün fiyatını (float) ve indirim oranını (yüzde) alınız. İndirimli fiyatı hesaplayıp ekrana yazdırınız. (Aritmetik operatörler kullanılacak.)"
   ]
  },
  {
   "cell_type": "code",
   "execution_count": 2,
   "id": "d636c1be",
   "metadata": {},
   "outputs": [
    {
     "name": "stdout",
     "output_type": "stream",
     "text": [
      "Ürünün fiyatını giriniz:200\n",
      "İndirim oranını giriniz:10\n",
      "İndirimli Fiyat:  180.0\n"
     ]
    }
   ],
   "source": [
    "fiyat=float(input(\"Ürünün fiyatını giriniz:\"))\n",
    "indirim_orani=float(input(\"İndirim oranını giriniz:\"))\n",
    "toplam_indirim=fiyat*indirim_orani/100\n",
    "son_fiyat=fiyat-toplam_indirim\n",
    "print(\"İndirimli Fiyat: \",son_fiyat)"
   ]
  },
  {
   "cell_type": "markdown",
   "id": "caaf6392",
   "metadata": {},
   "source": [
    "8. True ve False değerlerini içeren değişkenlerle mantıksal operatörleri (and, or, not) uygulayarak örnekler yapınız ve sonuçlarını ekrana yazdırınız."
   ]
  },
  {
   "cell_type": "code",
   "execution_count": 3,
   "id": "45dbdeab",
   "metadata": {},
   "outputs": [
    {
     "name": "stdout",
     "output_type": "stream",
     "text": [
      "False\n",
      "True\n",
      "True\n"
     ]
    }
   ],
   "source": [
    "a = True\n",
    "b = False\n",
    "\n",
    "print(a and b) \n",
    "print(a or b) \n",
    "print(a!= b)  "
   ]
  },
  {
   "cell_type": "markdown",
   "id": "6cbd3b0c",
   "metadata": {},
   "source": [
    "# Bölüm 3: Mini Proje"
   ]
  },
  {
   "cell_type": "markdown",
   "id": "f712ed77",
   "metadata": {},
   "source": [
    "9. Küçük bir alışveriş sepeti uygulaması yapınız:\n",
    "- Kullanıcıdan 3 ürünün fiyatını alınız.\n",
    "- Toplam fiyatı hesaplayınız.\n",
    "- Eğer toplam fiyat 200 TL’den fazlaysa %10 indirim uygulayınız.\n"
   ]
  },
  {
   "cell_type": "code",
   "execution_count": 6,
   "id": "d3019d5c",
   "metadata": {},
   "outputs": [
    {
     "name": "stdout",
     "output_type": "stream",
     "text": [
      "Ürün 1 fiyatını giriniz: 50\n",
      "Ürün 2 fiyatını giriniz: 40\n",
      "Ürün 3 fiyatını giriniz: 150\n",
      "Toplam fiyat:  216.0\n"
     ]
    }
   ],
   "source": [
    "u1=float(input(\"Ürün 1 fiyatını giriniz: \"))\n",
    "u2=float(input(\"Ürün 2 fiyatını giriniz: \"))\n",
    "u3=float(input(\"Ürün 3 fiyatını giriniz: \"))\n",
    "\n",
    "toplam_fiyat=u1+u2+u3\n",
    "\n",
    "indirimli_fiyat=toplam_fiyat-toplam_fiyat*10/100\n",
    "\n",
    "if(toplam_fiyat>200):\n",
    "    toplam_fiyat=indirimli_fiyat\n",
    "    print(\"Toplam fiyat: \", toplam_fiyat) \n",
    "else:\n",
    "    print(\"Toplam fiyat: \" ,toplam_fiyat)    "
   ]
  },
  {
   "cell_type": "markdown",
   "id": "2d164c9f",
   "metadata": {},
   "source": [
    "10. Kullanıcıdan doğum yılını alınız. Bu yıl ile güncel yılı kullanarak yaşını hesaplayınız. Yaşına göre şu mesajlardan birini veriniz:\n",
    "- 0-12: 'Çocuksunuz'\n",
    "- 13-17: 'Ergensiniz'\n",
    "- 18 ve üzeri: 'Yetişkinsiniz'\n",
    "Not: Çözümlerde sadece veri tipleri ve operatörler konularını kullanmanız beklenmektedir. Fonksiyonlar, döngüler veya ileri seviye konular henüz kullanılmayacaktır.\n"
   ]
  },
  {
   "cell_type": "code",
   "execution_count": 7,
   "id": "0c19023b",
   "metadata": {},
   "outputs": [
    {
     "name": "stdout",
     "output_type": "stream",
     "text": [
      "Yaşınızı giriniz: 18\n",
      "Yetişkinsiniz\n"
     ]
    }
   ],
   "source": [
    "yas=int(input(\"Yaşınızı giriniz: \"))\n",
    "if(yas<=12 and yas>=0):\n",
    "    print(\"Çocuksunuz\")\n",
    "if(yas<=17 and yas>=13):\n",
    "    print(\"Ergensiniz\")\n",
    "else:\n",
    "    print(\"Yetişkinsiniz\")\n"
   ]
  }
 ],
 "metadata": {
  "kernelspec": {
   "display_name": "Python 3 (ipykernel)",
   "language": "python",
   "name": "python3"
  },
  "language_info": {
   "codemirror_mode": {
    "name": "ipython",
    "version": 3
   },
   "file_extension": ".py",
   "mimetype": "text/x-python",
   "name": "python",
   "nbconvert_exporter": "python",
   "pygments_lexer": "ipython3",
   "version": "3.11.5"
  }
 },
 "nbformat": 4,
 "nbformat_minor": 5
}
