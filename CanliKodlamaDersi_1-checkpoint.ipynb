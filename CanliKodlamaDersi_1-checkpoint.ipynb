{
 "cells": [
  {
   "cell_type": "markdown",
   "id": "9d917622",
   "metadata": {},
   "source": [
    "📋 Proje Açıklaması\n",
    "\n",
    "Bu projede, bir meyve mağazası için satış sistemi geliştireceksiniz. Program müşterilerden meyve\n",
    "\n",
    "sipariş bilgilerini alacak, KDV dahil fiyat hesaplamaları yapacak ve çeşitli analiz ve raporlama\n",
    "\n",
    "özellikleri sunacaktır.\n",
    "\n",
    "Gereksinimler\n",
    "\n",
    "Temel Özellikler\n",
    "\n",
    "Ürün Bilgisi Girişi\n",
    "Kullanıcıdan kaç çeşit meyve alacağını sor\n",
    "\n",
    "Her meyve için şu bilgileri al:\n",
    "\n",
    "Meyve adı\n",
    "\n",
    "Birim fiyat (TL/kg)\n",
    "\n",
    "Alınacak miktar (kg)\n",
    "\n",
    "KDV Hesaplaması\n",
    "%20 KDV oranı uygula\n",
    "\n",
    "Her ürün için KDV dahil tutar hesapla\n",
    "\n",
    "Toplam tutarı hesapla\n",
    "\n",
    "Çıktı Gösterimi\n",
    "Girilen bilgileri özetle\n",
    "\n",
    "KDV dahil fiyatları listele\n",
    "\n",
    "Toplam tutarı göster\n",
    "\n",
    "İstatistik Analizi\n",
    "En pahalı ürünü bul ve göster\n",
    "\n",
    "En ucuz ürünü bul ve göster\n",
    "\n",
    "Ortalama ürün tutarını hesapla\n",
    "\n",
    "Toplam alınacak meyve miktarını (kg) göster\n",
    "\n",
    "Sıralama Özellikleri\n",
    "Ürünleri fiyata göre azalan sırada listele\n",
    "\n",
    "adet = int(input('Lütfen kaç adet meyve alacağınızı belirtiniz.'))\n",
    "meyve_adlari = list()\n",
    "birim_fiyatlari = [] \n",
    "kilogramlar = list()\n"
   ]
  },
  {
   "cell_type": "code",
   "execution_count": 2,
   "id": "f415909e",
   "metadata": {},
   "outputs": [
    {
     "name": "stdout",
     "output_type": "stream",
     "text": [
      "Kaç adet meyve alacağınızı belirtiniz:2\n",
      "1. meyvenin adını girin:muz\n",
      "1. meyvenin birm fiyatını girinn:20\n",
      "1. meyvenin kilogramını giriniz:4\n",
      "2. meyvenin adını girin:çilek\n",
      "2. meyvenin birm fiyatını girinn:25\n",
      "2. meyvenin kilogramını giriniz:6\n"
     ]
    }
   ],
   "source": [
    "adet=int(input(\"Kaç adet meyve alacağınızı belirtiniz:\"))\n",
    "meyve_adlari=list();\n",
    "birim_fiyatlari=[];\n",
    "kilogramlar=list();\n",
    "\n",
    "\n",
    "#0 1 2 3\n",
    "#range(5) : 0 1 2  3 4\n",
    "#range(1,10,2): 1 3 5 7 9\n",
    "\n",
    "for i in range(1,adet+1):\n",
    "    meyve_adi=input(f'{i}. meyvenin adını girin:')\n",
    "    birim_fiyat=int(input(f'{i}. meyvenin birm fiyatını girinn:'))\n",
    "    kilogram=int(input(f'{i}. meyvenin kilogramını giriniz:'))\n",
    "    \n",
    "    meyve_adlari.append(meyve_adi)\n",
    "    birim_fiyatlari.append(birim_fiyat)\n",
    "    kilogramlar.append(kilogram)\n",
    "    \n",
    "    \n",
    "    "
   ]
  },
  {
   "cell_type": "code",
   "execution_count": 4,
   "id": "5d9734a2",
   "metadata": {},
   "outputs": [
    {
     "name": "stdout",
     "output_type": "stream",
     "text": [
      "Meyve Adı: muz , Birim Fiyatı: 20 , Kilogram: 4 Kg\n",
      "Meyve Adı: çilek , Birim Fiyatı: 25 , Kilogram: 6 Kg\n"
     ]
    }
   ],
   "source": [
    "for i in range(adet):\n",
    "    print(f'Meyve Adı: {meyve_adlari[i]} , Birim Fiyatı: {birim_fiyatlari[i]} , Kilogram: {kilogramlar[i]} Kg')"
   ]
  },
  {
   "cell_type": "code",
   "execution_count": 9,
   "id": "5385d09e",
   "metadata": {},
   "outputs": [
    {
     "name": "stdout",
     "output_type": "stream",
     "text": [
      "Meyve Toplam Tutarları\n",
      "Meyve adı: muz  ,  Birim fiyatı: 20  ,  Kilogram: 4 Kg \n",
      "Meyve adı: çilek  ,  Birim fiyatı: 25  ,  Kilogram: 6 Kg \n"
     ]
    }
   ],
   "source": [
    "print(\"Meyve Toplam Tutarları\")\n",
    "\n",
    "\n",
    "kdv_siz_toplam_tutar=0\n",
    "kdv_li_toplam_tutar=0\n",
    "kdv_siz_liste=list()\n",
    "kdv_li_liste=list()\n",
    "\n",
    "for i in range(adet):\n",
    "    toplam_fiyat=birim_fiyatlari[i]*kilogramlar[i]\n",
    "    kdv_li_toplam=toplam_fiyat*1.2\n",
    "    kdv_li_liste.append(toplam_fiyat)\n",
    "    kdv_siz_liste.append(toplam_fiyat)\n",
    "    kdv_siz_toplam_tutar += toplam_fiyat\n",
    "    kdv_li_toplam_tutar += kdv_li_toplam\n",
    "    \n",
    "    print(f'Meyve adı: {meyve_adlari[i]}  ,  Birim fiyatı: {birim_fiyatlari[i]}  ,  Kilogram: {kilogramlar[i]} Kg ')  \n",
    "\n",
    "    "
   ]
  },
  {
   "cell_type": "code",
   "execution_count": 10,
   "id": "2a662149",
   "metadata": {},
   "outputs": [
    {
     "name": "stdout",
     "output_type": "stream",
     "text": [
      "Kdv siz Toplam tutar: 230\n",
      "Kdv li Toplam tutar: 276.0\n"
     ]
    }
   ],
   "source": [
    "print(f'Kdv siz Toplam tutar: {kdv_siz_toplam_tutar}')\n",
    "print(f'Kdv li Toplam tutar: {kdv_li_toplam_tutar}')"
   ]
  },
  {
   "cell_type": "code",
   "execution_count": 11,
   "id": "2e8a1f98",
   "metadata": {},
   "outputs": [
    {
     "name": "stdout",
     "output_type": "stream",
     "text": [
      "Meyve adı : muz , Birim Fiyatı : 20 ₺, Kilogram : 4 Kg, Toplam Tutar(KDV^siz) : 80 ₺ Kdv li tutar : 80 ₺\n",
      "Meyve adı : çilek , Birim Fiyatı : 25 ₺, Kilogram : 6 Kg, Toplam Tutar(KDV^siz) : 150 ₺ Kdv li tutar : 150 ₺\n"
     ]
    }
   ],
   "source": [
    "\n",
    "for i in range(adet):\n",
    "     print(f'Meyve adı : {meyve_adlari[i]} , Birim Fiyatı : {birim_fiyatlari[i]} ₺, Kilogram : {kilogramlar[i]} Kg, Toplam Tutar(KDV^siz) : {kdv_siz_liste[i]} ₺ Kdv li tutar : {kdv_li_liste[i]} ₺')"
   ]
  },
  {
   "cell_type": "code",
   "execution_count": 13,
   "id": "e1f94821",
   "metadata": {},
   "outputs": [
    {
     "name": "stdout",
     "output_type": "stream",
     "text": [
      "Meyve adı : muz , Birim Fiyatı : 20 ₺, Kilogram : 4 Kg, Toplam Tutar(KDV^siz) : 80 ₺ Kdv li tutar : 80 ₺\n"
     ]
    }
   ],
   "source": [
    "en_ucuz=min(kdv_siz_liste)\n",
    "\n",
    "for i in range(adet):\n",
    "    if kdv_siz_liste[i]==en_ucuz:\n",
    "        print(f'Meyve adı : {meyve_adlari[i]} , Birim Fiyatı : {birim_fiyatlari[i]} ₺, Kilogram : {kilogramlar[i]} Kg, Toplam Tutar(KDV^siz) : {kdv_siz_liste[i]} ₺ Kdv li tutar : {kdv_li_liste[i]} ₺') "
   ]
  }
 ],
 "metadata": {
  "kernelspec": {
   "display_name": "Python 3 (ipykernel)",
   "language": "python",
   "name": "python3"
  },
  "language_info": {
   "codemirror_mode": {
    "name": "ipython",
    "version": 3
   },
   "file_extension": ".py",
   "mimetype": "text/x-python",
   "name": "python",
   "nbconvert_exporter": "python",
   "pygments_lexer": "ipython3",
   "version": "3.11.5"
  }
 },
 "nbformat": 4,
 "nbformat_minor": 5
}
