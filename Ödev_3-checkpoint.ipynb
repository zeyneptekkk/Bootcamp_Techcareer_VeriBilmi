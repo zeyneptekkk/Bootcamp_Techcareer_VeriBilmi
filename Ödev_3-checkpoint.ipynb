{
 "cells": [
  {
   "cell_type": "markdown",
   "id": "15e15d82",
   "metadata": {},
   "source": [
    "# Soru 1 – Liste Metotları "
   ]
  },
  {
   "cell_type": "markdown",
   "id": "746c0864",
   "metadata": {},
   "source": [
    "Bir sınıfta öğrencilerin notları şu şekilde tutuluyor: \n",
    "notlar = [85, 92, 76, 92, 100, 76, 85, 92] \n",
    "• Listedeki tekrar eden notları silip benzersiz bir liste oluşturun. \n",
    "• En yüksek ve en düşük notu bulun. \n",
    "• Notları küçükten büyüğe sıralayın."
   ]
  },
  {
   "cell_type": "code",
   "execution_count": 18,
   "id": "7ab487e6",
   "metadata": {},
   "outputs": [
    {
     "name": "stdout",
     "output_type": "stream",
     "text": [
      "Benzersiz Liste :  [85, 92, 76, 100]\n"
     ]
    }
   ],
   "source": [
    "from collections import Counter\n",
    "\n",
    "notlar=[85, 92, 76, 92, 100, 76, 85, 92] \n",
    "notlar=Counter(notlar)\n",
    "\n",
    "tekrar_edenler=[x for x,adet in notlar.items() if adet>1]\n",
    "tek_gecen=[x for x,adet in notlar.items() if adet==1]\n",
    "\n",
    "benzersiz_liste=tekrar_edenler+tek_gecen\n",
    "\n",
    "print(\"Benzersiz Liste : \",benzersiz_liste)      \n",
    "        \n",
    "           "
   ]
  },
  {
   "cell_type": "code",
   "execution_count": 19,
   "id": "3b07ad1c",
   "metadata": {},
   "outputs": [
    {
     "name": "stdout",
     "output_type": "stream",
     "text": [
      "En düşük not:  76\n",
      "En yüksek not:  100\n"
     ]
    }
   ],
   "source": [
    "en_yuksek_not=max(benzersiz_liste)\n",
    "en_dusuk_not=min(benzersiz_liste)\n",
    "\n",
    "print(\"En düşük not: \",en_dusuk_not)\n",
    "print(\"En yüksek not: \",en_yuksek_not)"
   ]
  },
  {
   "cell_type": "code",
   "execution_count": 22,
   "id": "a496571b",
   "metadata": {},
   "outputs": [
    {
     "name": "stdout",
     "output_type": "stream",
     "text": [
      "Notların Sıralaması:  [76, 85, 92, 100]\n"
     ]
    }
   ],
   "source": [
    "benzersiz_liste.sort()\n",
    "print(\"Notların Sıralaması: \",benzersiz_liste)"
   ]
  },
  {
   "cell_type": "markdown",
   "id": "f7f6c43a",
   "metadata": {},
   "source": [
    "# Soru 2 – Sayılar "
   ]
  },
  {
   "cell_type": "markdown",
   "id": "29b20ee1",
   "metadata": {},
   "source": [
    "Bir sayının Armstrong sayısı olup olmadığını kontrol eden bir Python fonksiyonu yazın. \n",
    "Armstrong sayısı: Her basamağının küplerinin toplamı kendisine eşit olan sayılar. \n",
    "Örn: 153 → 1³+5³+3³ = 153"
   ]
  },
  {
   "cell_type": "code",
   "execution_count": 51,
   "id": "c3e56cce",
   "metadata": {},
   "outputs": [
    {
     "name": "stdout",
     "output_type": "stream",
     "text": [
      "Sayı Gir:153\n",
      "Bu sayı amstrong sayıdır \n"
     ]
    }
   ],
   "source": [
    "sayi=int(input(\"Sayı Gir:\"))\n",
    "\n",
    "sayi_str=str(sayi) \n",
    "\n",
    "sayi_kup_toplam=0\n",
    "\n",
    "for i in sayi_str:\n",
    "    i=int(i)\n",
    "    kup=i**3\n",
    "    sayi_kup_toplam += kup\n",
    "      \n",
    "\n",
    "if sayi_kup_toplam==sayi:\n",
    "    print(\"Bu sayı amstrong sayıdır \")\n",
    "else:\n",
    "    print(\"Bu bir amstrong sayı değildir\")"
   ]
  },
  {
   "cell_type": "markdown",
   "id": "b2499eba",
   "metadata": {},
   "source": [
    "# Soru 3 – Kümeler"
   ]
  },
  {
   "cell_type": "markdown",
   "id": "dc056432",
   "metadata": {},
   "source": [
    "Aşağıdaki iki küme verilmiştir: \n",
    "A = {\"Python\", \"R\", \"SQL\", \"Java\"} \n",
    "B = {\"C++\", \"Python\", \"JavaScript\", \"SQL\"} \n",
    "• Ortak dilleri bulun. \n",
    "• Sadece A’da olan dilleri listeleyin. \n",
    "• İki kümenin birleşimini alfabetik olarak yazdırın."
   ]
  },
  {
   "cell_type": "code",
   "execution_count": 52,
   "id": "59fb2b90",
   "metadata": {},
   "outputs": [
    {
     "name": "stdout",
     "output_type": "stream",
     "text": [
      "Ortak olan diller:  ['Python', 'SQL']\n"
     ]
    }
   ],
   "source": [
    "A = {\"Python\", \"R\", \"SQL\", \"Java\"} \n",
    "B = {\"C++\", \"Python\", \"JavaScript\", \"SQL\"} \n",
    "C=[]\n",
    "for i in A:\n",
    "    for j in B:\n",
    "        if i==j:\n",
    "            C.append(i)\n",
    "print(\"Ortak olan diller: \",C)            "
   ]
  },
  {
   "cell_type": "code",
   "execution_count": 58,
   "id": "6fea7820",
   "metadata": {},
   "outputs": [
    {
     "name": "stdout",
     "output_type": "stream",
     "text": [
      "{'R', 'Java'}\n"
     ]
    }
   ],
   "source": [
    "for i in A.copy():\n",
    "    for j in B:\n",
    "        if i==j:\n",
    "            A.remove(i)\n",
    "print(A)            "
   ]
  },
  {
   "cell_type": "code",
   "execution_count": 79,
   "id": "9b931afe",
   "metadata": {},
   "outputs": [
    {
     "name": "stdout",
     "output_type": "stream",
     "text": [
      "['Python', 'R', 'Java', 'SQL', 'C++', 'JavaScript']\n"
     ]
    }
   ],
   "source": [
    "A = {\"Python\", \"R\", \"SQL\", \"Java\"} \n",
    "B = {\"C++\", \"Python\", \"JavaScript\", \"SQL\"} \n",
    "A=list(A)\n",
    "B=list(B)\n",
    "\n",
    "B=[i for i in B if i not in C]\n",
    "D=A+B\n",
    "print(D)"
   ]
  },
  {
   "cell_type": "markdown",
   "id": "f5082103",
   "metadata": {},
   "source": [
    "# Soru 4 – Modüller"
   ]
  },
  {
   "cell_type": "raw",
   "id": "2e2d57e0",
   "metadata": {},
   "source": [
    "random modülünü kullanarak 1–100 arasında 10 rastgele sayı üretin. \n",
    "• Bu sayıların ortalamasını ve standart sapmasını statistics modülü ile hesaplayın"
   ]
  },
  {
   "cell_type": "code",
   "execution_count": 98,
   "id": "caeab46f",
   "metadata": {},
   "outputs": [
    {
     "name": "stdout",
     "output_type": "stream",
     "text": [
      "Ortalama:  51.9\n",
      "Standart Sapma:  32.463483759106595\n"
     ]
    }
   ],
   "source": [
    "import random\n",
    "import statistics\n",
    "\n",
    "ortalama=[]\n",
    "for i in range(10):\n",
    "    i=random.randint(1,101)\n",
    "    ortalama.append(i)\n",
    "ort=statistics.mean(ortalama)\n",
    "standart_s=statistics.stdev(ortalama)\n",
    "print(\"Ortalama: \",ort)\n",
    "print(\"Standart Sapma: \",standart_s)"
   ]
  },
  {
   "cell_type": "markdown",
   "id": "d688fce6",
   "metadata": {},
   "source": [
    "# Soru 5 – Fonksiyonlar "
   ]
  },
  {
   "cell_type": "markdown",
   "id": "de7f85ba",
   "metadata": {},
   "source": [
    "kelime_sayacı(metin) adında bir fonksiyon yazın. \n",
    "Fonksiyon verilen metindeki: \n",
    "• toplam kelime sayısını \n",
    "• en uzun kelimeyi \n",
    "• en sık geçen kelimeyi döndürsün."
   ]
  },
  {
   "cell_type": "code",
   "execution_count": 102,
   "id": "c9c900f5",
   "metadata": {},
   "outputs": [
    {
     "name": "stdout",
     "output_type": "stream",
     "text": [
      "Toplam kelime sayısı:  6\n",
      "En uzun kelime:  zeynep\n",
      "En sık gecen kelime:  benim\n"
     ]
    }
   ],
   "source": [
    "def kelime_sayac(metin):\n",
    "    metin=metin.split()\n",
    "    uzunluk=len(metin)\n",
    "    en_uzun=max(metin,key=len)\n",
    "    en_cok=max(metin,key=metin.count)\n",
    "    print(\"Toplam kelime sayısı: \",uzunluk)\n",
    "    print(\"En uzun kelime: \",en_uzun)\n",
    "    print(\"En sık gecen kelime: \",en_cok)\n",
    "    \n",
    "kelime_sayac(\"benim adım zeynep benim yaşımm 21\")    "
   ]
  },
  {
   "cell_type": "markdown",
   "id": "ed20254f",
   "metadata": {},
   "source": [
    "# Soru 6 – Gömülü Fonksiyonlar "
   ]
  },
  {
   "cell_type": "markdown",
   "id": "49a7c6f1",
   "metadata": {},
   "source": [
    "Aşağıdaki liste için map, filter, sorted gibi gömülü fonksiyonları kullanarak: \n",
    "sayilar = [5, 12, 7, 18, 24, 3, 16] \n",
    "• Sadece çift sayıları filtreleyin. \n",
    "• Bu sayıların karelerini bulun. \n",
    "• Karelerini azalan sırada sıralayın."
   ]
  },
  {
   "cell_type": "code",
   "execution_count": 104,
   "id": "3ee07422",
   "metadata": {},
   "outputs": [
    {
     "data": {
      "text/plain": [
       "[12, 18, 24, 16]"
      ]
     },
     "execution_count": 104,
     "metadata": {},
     "output_type": "execute_result"
    }
   ],
   "source": [
    "sayilar = [5, 12, 7, 18, 24, 3, 16] \n",
    "çift_sayilar=list(filter(lambda x: x%2==0,sayilar))\n",
    "çift_sayilar                 "
   ]
  },
  {
   "cell_type": "code",
   "execution_count": 108,
   "id": "7af69d75",
   "metadata": {},
   "outputs": [
    {
     "data": {
      "text/plain": [
       "[25, 144, 49, 324, 576, 9, 256]"
      ]
     },
     "execution_count": 108,
     "metadata": {},
     "output_type": "execute_result"
    }
   ],
   "source": [
    "kare_sayilar=[x**2 for x in sayilar]\n",
    "kare_sayilar"
   ]
  },
  {
   "cell_type": "code",
   "execution_count": 115,
   "id": "bc564cf1",
   "metadata": {},
   "outputs": [
    {
     "data": {
      "text/plain": [
       "[3, 5, 7, 12, 16, 18, 24]"
      ]
     },
     "execution_count": 115,
     "metadata": {},
     "output_type": "execute_result"
    }
   ],
   "source": [
    "sayilar.sort()\n",
    "sayilar"
   ]
  },
  {
   "cell_type": "markdown",
   "id": "a132acae",
   "metadata": {},
   "source": [
    "# Soru 7 – Lambda İfadeleri "
   ]
  },
  {
   "cell_type": "markdown",
   "id": "b655f789",
   "metadata": {},
   "source": [
    "Aşağıdaki listeyi, her kelimenin uzunluğuna göre küçükten büyüğe sıralayın. \n",
    "kelimeler = [\"veri\", \"bilim\", \"analiz\", \"yapayzeka\", \"python\"] \n",
    "Bunu sorted + lambda ile yapın."
   ]
  },
  {
   "cell_type": "code",
   "execution_count": 116,
   "id": "148136a8",
   "metadata": {},
   "outputs": [
    {
     "name": "stdout",
     "output_type": "stream",
     "text": [
      "['veri', 'bilim', 'analiz', 'python', 'yapayzeka']\n"
     ]
    }
   ],
   "source": [
    "kelimeler = [\"veri\", \"bilim\", \"analiz\", \"yapayzeka\", \"python\"] \n",
    "sirali = sorted(kelimeler, key=lambda x: len(x))\n",
    "\n",
    "print(sirali)"
   ]
  },
  {
   "cell_type": "markdown",
   "id": "69157728",
   "metadata": {},
   "source": [
    "# Soru 8 – Metodlar "
   ]
  },
  {
   "cell_type": "markdown",
   "id": "bc77ab89",
   "metadata": {},
   "source": [
    "Bir string içinde geçen tüm rakamları bulun ve bunların toplamını döndüren bir fonksiyon \n",
    "yazın. \n",
    "Örn: \"abc12def3\" → 12 + 3 = 15 "
   ]
  },
  {
   "cell_type": "code",
   "execution_count": 117,
   "id": "e2e25829",
   "metadata": {},
   "outputs": [
    {
     "name": "stdout",
     "output_type": "stream",
     "text": [
      "6\n"
     ]
    }
   ],
   "source": [
    "str=\"abc12def3\"\n",
    "\n",
    "toplam=0\n",
    "for char in str:\n",
    "    if char.isdigit():\n",
    "        toplam += int(char)\n",
    "print(toplam)        "
   ]
  },
  {
   "cell_type": "code",
   "execution_count": null,
   "id": "1e82bdde",
   "metadata": {},
   "outputs": [],
   "source": []
  },
  {
   "cell_type": "code",
   "execution_count": null,
   "id": "5d4ea370",
   "metadata": {},
   "outputs": [],
   "source": []
  },
  {
   "cell_type": "code",
   "execution_count": null,
   "id": "29106b47",
   "metadata": {},
   "outputs": [],
   "source": []
  }
 ],
 "metadata": {
  "kernelspec": {
   "display_name": "Python 3 (ipykernel)",
   "language": "python",
   "name": "python3"
  },
  "language_info": {
   "codemirror_mode": {
    "name": "ipython",
    "version": 3
   },
   "file_extension": ".py",
   "mimetype": "text/x-python",
   "name": "python",
   "nbconvert_exporter": "python",
   "pygments_lexer": "ipython3",
   "version": "3.11.5"
  }
 },
 "nbformat": 4,
 "nbformat_minor": 5
}
